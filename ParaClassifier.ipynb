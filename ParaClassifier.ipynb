{
  "nbformat": 4,
  "nbformat_minor": 0,
  "metadata": {
    "colab": {
      "provenance": [],
      "toc_visible": true,
      "authorship_tag": "ABX9TyOI3n1zXOQuDiSj2nEomPvE",
      "include_colab_link": true
    },
    "kernelspec": {
      "name": "python3",
      "display_name": "Python 3"
    },
    "language_info": {
      "name": "python"
    },
    "accelerator": "GPU",
    "gpuClass": "standard"
  },
  "cells": [
    {
      "cell_type": "markdown",
      "metadata": {
        "id": "view-in-github",
        "colab_type": "text"
      },
      "source": [
        "<a href=\"https://colab.research.google.com/github/sonuuno2020/Para-Classifier/blob/main/ParaClassifier.ipynb\" target=\"_parent\"><img src=\"https://colab.research.google.com/assets/colab-badge.svg\" alt=\"Open In Colab\"/></a>"
      ]
    },
    {
      "cell_type": "markdown",
      "source": [
        "# **Purpose : To classify a paragraph into multiple sections for simpler and better understanding**\n",
        "\n",
        "```\n",
        "In this notebook, NLP model is based on medical text.\n",
        "\n",
        "It is a multi-classification of text but it is Many-to-One problem.\n",
        "\n",
        "Mainly it's a replication of PubMed200.\n",
        "https://arxiv.org/pdf/1612.05251.pdf\n",
        "https://arxiv.org/pdf/1710.06071.pdf\n",
        "\n",
        "```"
      ],
      "metadata": {
        "id": "-h39wkSIikLY"
      }
    },
    {
      "cell_type": "markdown",
      "source": [
        "**GPU Access**"
      ],
      "metadata": {
        "id": "NPO7fpxpkLBH"
      }
    },
    {
      "cell_type": "code",
      "execution_count": null,
      "metadata": {
        "colab": {
          "base_uri": "https://localhost:8080/"
        },
        "id": "-QLxNCMvc8U9",
        "outputId": "262c3045-580e-48de-a81b-555174ad09f2"
      },
      "outputs": [
        {
          "output_type": "stream",
          "name": "stdout",
          "text": [
            "GPU 0: Tesla T4 (UUID: GPU-37be49db-db1b-3ac7-38af-96cd9fd24b3c)\n"
          ]
        }
      ],
      "source": [
        "!nvidia-smi -L"
      ]
    },
    {
      "cell_type": "markdown",
      "source": [
        "## **Get Data**"
      ],
      "metadata": {
        "id": "JlKuoCkRkOoz"
      }
    },
    {
      "cell_type": "markdown",
      "source": [
        "* Get PubMed200 dataset publicly available"
      ],
      "metadata": {
        "id": "HighIWy8kZCo"
      }
    },
    {
      "cell_type": "code",
      "source": [
        "!git clone https://github.com/Franck-Dernoncourt/pubmed-rct"
      ],
      "metadata": {
        "colab": {
          "base_uri": "https://localhost:8080/"
        },
        "id": "_tGDzeNAkDD0",
        "outputId": "829f9406-1846-43d7-aca1-1c2dd580d6f8"
      },
      "execution_count": null,
      "outputs": [
        {
          "output_type": "stream",
          "name": "stdout",
          "text": [
            "Cloning into 'pubmed-rct'...\n",
            "remote: Enumerating objects: 33, done.\u001b[K\n",
            "remote: Counting objects: 100% (8/8), done.\u001b[K\n",
            "remote: Compressing objects: 100% (3/3), done.\u001b[K\n",
            "remote: Total 33 (delta 5), reused 5 (delta 5), pack-reused 25\u001b[K\n",
            "Unpacking objects: 100% (33/33), done.\n"
          ]
        }
      ]
    },
    {
      "cell_type": "code",
      "source": [
        "!ls pubmed-rct"
      ],
      "metadata": {
        "colab": {
          "base_uri": "https://localhost:8080/"
        },
        "id": "jmN9MWEwkzQl",
        "outputId": "8d04ac00-c8f0-489f-8f2e-0c18d347cf08"
      },
      "execution_count": null,
      "outputs": [
        {
          "output_type": "stream",
          "name": "stdout",
          "text": [
            "PubMed_200k_RCT\n",
            "PubMed_200k_RCT_numbers_replaced_with_at_sign\n",
            "PubMed_20k_RCT\n",
            "PubMed_20k_RCT_numbers_replaced_with_at_sign\n",
            "README.md\n"
          ]
        }
      ]
    },
    {
      "cell_type": "markdown",
      "source": [
        "👀 Here we have 2 datasets - 100% data and 10% data"
      ],
      "metadata": {
        "id": "Fcq4_JUulZGM"
      }
    },
    {
      "cell_type": "code",
      "source": [
        "!ls pubmed-rct/PubMed_20k_RCT\n",
        "!ls pubmed-rct/PubMed_20k_RCT_numbers_replaced_with_at_sign\n"
      ],
      "metadata": {
        "colab": {
          "base_uri": "https://localhost:8080/"
        },
        "id": "An7h_hJvlCbD",
        "outputId": "fec49e71-dfb4-40ed-e852-cfc1960c2f13"
      },
      "execution_count": null,
      "outputs": [
        {
          "output_type": "stream",
          "name": "stdout",
          "text": [
            "dev.txt  test.txt  train.txt\n",
            "dev.txt  test.txt  train.txt\n"
          ]
        }
      ]
    },
    {
      "cell_type": "code",
      "source": [
        "data_dir='/content/pubmed-rct/PubMed_20k_RCT_numbers_replaced_with_at_sign/'"
      ],
      "metadata": {
        "id": "hqzqNzW1oxqM"
      },
      "execution_count": null,
      "outputs": []
    },
    {
      "cell_type": "markdown",
      "source": [
        "## **Become One with Data**"
      ],
      "metadata": {
        "id": "-AzGNXpInUH8"
      }
    },
    {
      "cell_type": "code",
      "source": [
        "def get_lines(filename):\n",
        "  \"\"\"\n",
        "    reads a text file and return all lines in a list.\n",
        "  \"\"\"\n",
        "\n",
        "  with open (filename,'r') as file:\n",
        "    return file.readlines()"
      ],
      "metadata": {
        "id": "d8sPDBnyl4hi"
      },
      "execution_count": null,
      "outputs": []
    },
    {
      "cell_type": "code",
      "source": [
        "train_lines=get_lines(data_dir+'train.txt')\n",
        "train_lines[:20]"
      ],
      "metadata": {
        "colab": {
          "base_uri": "https://localhost:8080/"
        },
        "id": "QfFLbdipnaNr",
        "outputId": "3c275d69-185f-46d6-adae-651e953c5cf7"
      },
      "execution_count": null,
      "outputs": [
        {
          "output_type": "execute_result",
          "data": {
            "text/plain": [
              "['###24293578\\n',\n",
              " 'OBJECTIVE\\tTo investigate the efficacy of @ weeks of daily low-dose oral prednisolone in improving pain , mobility , and systemic low-grade inflammation in the short term and whether the effect would be sustained at @ weeks in older adults with moderate to severe knee osteoarthritis ( OA ) .\\n',\n",
              " 'METHODS\\tA total of @ patients with primary knee OA were randomized @:@ ; @ received @ mg/day of prednisolone and @ received placebo for @ weeks .\\n',\n",
              " 'METHODS\\tOutcome measures included pain reduction and improvement in function scores and systemic inflammation markers .\\n',\n",
              " 'METHODS\\tPain was assessed using the visual analog pain scale ( @-@ mm ) .\\n',\n",
              " 'METHODS\\tSecondary outcome measures included the Western Ontario and McMaster Universities Osteoarthritis Index scores , patient global assessment ( PGA ) of the severity of knee OA , and @-min walk distance ( @MWD ) .\\n',\n",
              " 'METHODS\\tSerum levels of interleukin @ ( IL-@ ) , IL-@ , tumor necrosis factor ( TNF ) - , and high-sensitivity C-reactive protein ( hsCRP ) were measured .\\n',\n",
              " 'RESULTS\\tThere was a clinically relevant reduction in the intervention group compared to the placebo group for knee pain , physical function , PGA , and @MWD at @ weeks .\\n',\n",
              " 'RESULTS\\tThe mean difference between treatment arms ( @ % CI ) was @ ( @-@ @ ) , p < @ ; @ ( @-@ @ ) , p < @ ; @ ( @-@ @ ) , p < @ ; and @ ( @-@ @ ) , p < @ , respectively .\\n',\n",
              " 'RESULTS\\tFurther , there was a clinically relevant reduction in the serum levels of IL-@ , IL-@ , TNF - , and hsCRP at @ weeks in the intervention group when compared to the placebo group .\\n',\n",
              " 'RESULTS\\tThese differences remained significant at @ weeks .\\n',\n",
              " 'RESULTS\\tThe Outcome Measures in Rheumatology Clinical Trials-Osteoarthritis Research Society International responder rate was @ % in the intervention group and @ % in the placebo group ( p < @ ) .\\n',\n",
              " 'CONCLUSIONS\\tLow-dose oral prednisolone had both a short-term and a longer sustained effect resulting in less knee pain , better physical function , and attenuation of systemic inflammation in older patients with knee OA ( ClinicalTrials.gov identifier NCT@ ) .\\n',\n",
              " '\\n',\n",
              " '###24854809\\n',\n",
              " 'BACKGROUND\\tEmotional eating is associated with overeating and the development of obesity .\\n',\n",
              " 'BACKGROUND\\tYet , empirical evidence for individual ( trait ) differences in emotional eating and cognitive mechanisms that contribute to eating during sad mood remain equivocal .\\n',\n",
              " 'OBJECTIVE\\tThe aim of this study was to test if attention bias for food moderates the effect of self-reported emotional eating during sad mood ( vs neutral mood ) on actual food intake .\\n',\n",
              " 'OBJECTIVE\\tIt was expected that emotional eating is predictive of elevated attention for food and higher food intake after an experimentally induced sad mood and that attentional maintenance on food predicts food intake during a sad versus a neutral mood .\\n',\n",
              " 'METHODS\\tParticipants ( N = @ ) were randomly assigned to one of the two experimental mood induction conditions ( sad/neutral ) .\\n']"
            ]
          },
          "metadata": {},
          "execution_count": 7
        }
      ]
    },
    {
      "cell_type": "markdown",
      "source": [
        "\n",
        "⚡ Here our data is in list but ***input and label are in same sentence*** \n",
        "\n",
        "* so we have to **break (⛏) them down** \n",
        "\n",
        "* **seperate each instances (✂ )** \n",
        "\n",
        "* For this we need a **preprocessing** function."
      ],
      "metadata": {
        "id": "U208cVXwpTBc"
      }
    },
    {
      "cell_type": "code",
      "source": [
        "#@title structure\n",
        "\n",
        "\n",
        "```\n",
        "How to format our Data ❓\n",
        "\n",
        "list of dictionaries.\n",
        "\n",
        "[\n",
        "  first Inst. --> {\n",
        "                    label_1 : [\n",
        "                                sentence_1,\n",
        "                                sentence_12,\n",
        "                                ...\n",
        "                              ],\n",
        "\n",
        "                    label_2 : [\n",
        "                                sentence_3,\n",
        "                                sentence_7,\n",
        "                                ...\n",
        "                              ]\n",
        "                    and so on...\n",
        "                  },\n",
        "  -----------------------------------------------------------------------\n",
        "  Second Inst. --> {\n",
        "                    label_1 : [\n",
        "                                sentence_1,\n",
        "                                sentence_12,\n",
        "                                ...\n",
        "                              ],\n",
        "\n",
        "                    label_2 : [\n",
        "                                sentence_3,\n",
        "                                sentence_7,\n",
        "                                ...\n",
        "                              ]\n",
        "                    and so on...\n",
        "                  },\n",
        "  ---------------------------------------------------------------------\n",
        "\n",
        "  and so on..\n",
        "]\n",
        "```"
      ],
      "metadata": {
        "cellView": "form",
        "id": "ur_ybr6WuM5l",
        "colab": {
          "base_uri": "https://localhost:8080/",
          "height": 131
        },
        "outputId": "6faea0bb-5f12-4676-990b-8a89d44a9460"
      },
      "execution_count": null,
      "outputs": [
        {
          "output_type": "error",
          "ename": "SyntaxError",
          "evalue": "ignored",
          "traceback": [
            "\u001b[0;36m  File \u001b[0;32m\"<ipython-input-8-b48b4a933b35>\"\u001b[0;36m, line \u001b[0;32m4\u001b[0m\n\u001b[0;31m    ```\u001b[0m\n\u001b[0m    ^\u001b[0m\n\u001b[0;31mSyntaxError\u001b[0m\u001b[0;31m:\u001b[0m invalid syntax\n"
          ]
        }
      ]
    },
    {
      "cell_type": "code",
      "source": [
        "# here we are going to write a preprcessing function to do so...\n",
        "\n",
        "def preprocessing_text_with_line_number(filename):\n",
        "  \"\"\"\n",
        "    Takes a filename and extract all lines then make a list of dictionaries,\n",
        "    For each instance each one contains :\n",
        "        line_number\n",
        "        target\n",
        "        text\n",
        "        total_lines = number of lines in each paragraph\n",
        "  \"\"\"\n",
        "\n",
        "  input_lines = get_lines(data_dir + filename)\n",
        "  text_blog=\"\"\n",
        "\n",
        "  samples=[]\n",
        "\n",
        "  for line in input_lines:\n",
        "\n",
        "    if line.startswith('###'):\n",
        "      id=line\n",
        "      text_blog=\"\"\n",
        "    elif line.isspace():\n",
        "\n",
        "      all_lines=text_blog.splitlines()\n",
        "\n",
        "      for line_number,curr_line in enumerate(all_lines):\n",
        "        temp=dict()\n",
        "        temp['line_number']=line_number\n",
        "        label,text=curr_line.split('\\t')\n",
        "        temp['target']=label\n",
        "        temp['text']=text.lower()\n",
        "        temp['total_lines']=len(all_lines)-1\n",
        "\n",
        "        samples.append(temp)\n",
        "\n",
        "    else:\n",
        "      text_blog+=line \n",
        "\n",
        "  return samples \n",
        "\n",
        "\n",
        "  "
      ],
      "metadata": {
        "id": "IrvFgcVewoDw"
      },
      "execution_count": null,
      "outputs": []
    },
    {
      "cell_type": "code",
      "source": [
        "train_text=preprocessing_text_with_line_number('train.txt')\n",
        "val_text=preprocessing_text_with_line_number('dev.txt')\n",
        "test_text=preprocessing_text_with_line_number('test.txt')\n"
      ],
      "metadata": {
        "id": "24LXZk5TjUsf"
      },
      "execution_count": null,
      "outputs": []
    },
    {
      "cell_type": "code",
      "source": [
        "import pandas as pd"
      ],
      "metadata": {
        "id": "mdXasC1jjeSy"
      },
      "execution_count": null,
      "outputs": []
    },
    {
      "cell_type": "code",
      "source": [
        "train_df=pd.DataFrame(train_text)\n",
        "val_df=pd.DataFrame(val_text)\n",
        "test_df=pd.DataFrame(test_text)"
      ],
      "metadata": {
        "id": "X5y0UevckKvC"
      },
      "execution_count": null,
      "outputs": []
    },
    {
      "cell_type": "code",
      "source": [
        "train_df.head()"
      ],
      "metadata": {
        "colab": {
          "base_uri": "https://localhost:8080/",
          "height": 206
        },
        "id": "wEG5yxkHkcqM",
        "outputId": "cfc991b8-9972-4b21-c599-7fad81b326b3"
      },
      "execution_count": null,
      "outputs": [
        {
          "output_type": "execute_result",
          "data": {
            "text/plain": [
              "   line_number     target                                               text  \\\n",
              "0            0  OBJECTIVE  to investigate the efficacy of @ weeks of dail...   \n",
              "1            1    METHODS  a total of @ patients with primary knee oa wer...   \n",
              "2            2    METHODS  outcome measures included pain reduction and i...   \n",
              "3            3    METHODS  pain was assessed using the visual analog pain...   \n",
              "4            4    METHODS  secondary outcome measures included the wester...   \n",
              "\n",
              "   total_lines  \n",
              "0           11  \n",
              "1           11  \n",
              "2           11  \n",
              "3           11  \n",
              "4           11  "
            ],
            "text/html": [
              "\n",
              "  <div id=\"df-78cb73ab-ce46-498b-bbcd-6f5a7ed36560\">\n",
              "    <div class=\"colab-df-container\">\n",
              "      <div>\n",
              "<style scoped>\n",
              "    .dataframe tbody tr th:only-of-type {\n",
              "        vertical-align: middle;\n",
              "    }\n",
              "\n",
              "    .dataframe tbody tr th {\n",
              "        vertical-align: top;\n",
              "    }\n",
              "\n",
              "    .dataframe thead th {\n",
              "        text-align: right;\n",
              "    }\n",
              "</style>\n",
              "<table border=\"1\" class=\"dataframe\">\n",
              "  <thead>\n",
              "    <tr style=\"text-align: right;\">\n",
              "      <th></th>\n",
              "      <th>line_number</th>\n",
              "      <th>target</th>\n",
              "      <th>text</th>\n",
              "      <th>total_lines</th>\n",
              "    </tr>\n",
              "  </thead>\n",
              "  <tbody>\n",
              "    <tr>\n",
              "      <th>0</th>\n",
              "      <td>0</td>\n",
              "      <td>OBJECTIVE</td>\n",
              "      <td>to investigate the efficacy of @ weeks of dail...</td>\n",
              "      <td>11</td>\n",
              "    </tr>\n",
              "    <tr>\n",
              "      <th>1</th>\n",
              "      <td>1</td>\n",
              "      <td>METHODS</td>\n",
              "      <td>a total of @ patients with primary knee oa wer...</td>\n",
              "      <td>11</td>\n",
              "    </tr>\n",
              "    <tr>\n",
              "      <th>2</th>\n",
              "      <td>2</td>\n",
              "      <td>METHODS</td>\n",
              "      <td>outcome measures included pain reduction and i...</td>\n",
              "      <td>11</td>\n",
              "    </tr>\n",
              "    <tr>\n",
              "      <th>3</th>\n",
              "      <td>3</td>\n",
              "      <td>METHODS</td>\n",
              "      <td>pain was assessed using the visual analog pain...</td>\n",
              "      <td>11</td>\n",
              "    </tr>\n",
              "    <tr>\n",
              "      <th>4</th>\n",
              "      <td>4</td>\n",
              "      <td>METHODS</td>\n",
              "      <td>secondary outcome measures included the wester...</td>\n",
              "      <td>11</td>\n",
              "    </tr>\n",
              "  </tbody>\n",
              "</table>\n",
              "</div>\n",
              "      <button class=\"colab-df-convert\" onclick=\"convertToInteractive('df-78cb73ab-ce46-498b-bbcd-6f5a7ed36560')\"\n",
              "              title=\"Convert this dataframe to an interactive table.\"\n",
              "              style=\"display:none;\">\n",
              "        \n",
              "  <svg xmlns=\"http://www.w3.org/2000/svg\" height=\"24px\"viewBox=\"0 0 24 24\"\n",
              "       width=\"24px\">\n",
              "    <path d=\"M0 0h24v24H0V0z\" fill=\"none\"/>\n",
              "    <path d=\"M18.56 5.44l.94 2.06.94-2.06 2.06-.94-2.06-.94-.94-2.06-.94 2.06-2.06.94zm-11 1L8.5 8.5l.94-2.06 2.06-.94-2.06-.94L8.5 2.5l-.94 2.06-2.06.94zm10 10l.94 2.06.94-2.06 2.06-.94-2.06-.94-.94-2.06-.94 2.06-2.06.94z\"/><path d=\"M17.41 7.96l-1.37-1.37c-.4-.4-.92-.59-1.43-.59-.52 0-1.04.2-1.43.59L10.3 9.45l-7.72 7.72c-.78.78-.78 2.05 0 2.83L4 21.41c.39.39.9.59 1.41.59.51 0 1.02-.2 1.41-.59l7.78-7.78 2.81-2.81c.8-.78.8-2.07 0-2.86zM5.41 20L4 18.59l7.72-7.72 1.47 1.35L5.41 20z\"/>\n",
              "  </svg>\n",
              "      </button>\n",
              "      \n",
              "  <style>\n",
              "    .colab-df-container {\n",
              "      display:flex;\n",
              "      flex-wrap:wrap;\n",
              "      gap: 12px;\n",
              "    }\n",
              "\n",
              "    .colab-df-convert {\n",
              "      background-color: #E8F0FE;\n",
              "      border: none;\n",
              "      border-radius: 50%;\n",
              "      cursor: pointer;\n",
              "      display: none;\n",
              "      fill: #1967D2;\n",
              "      height: 32px;\n",
              "      padding: 0 0 0 0;\n",
              "      width: 32px;\n",
              "    }\n",
              "\n",
              "    .colab-df-convert:hover {\n",
              "      background-color: #E2EBFA;\n",
              "      box-shadow: 0px 1px 2px rgba(60, 64, 67, 0.3), 0px 1px 3px 1px rgba(60, 64, 67, 0.15);\n",
              "      fill: #174EA6;\n",
              "    }\n",
              "\n",
              "    [theme=dark] .colab-df-convert {\n",
              "      background-color: #3B4455;\n",
              "      fill: #D2E3FC;\n",
              "    }\n",
              "\n",
              "    [theme=dark] .colab-df-convert:hover {\n",
              "      background-color: #434B5C;\n",
              "      box-shadow: 0px 1px 3px 1px rgba(0, 0, 0, 0.15);\n",
              "      filter: drop-shadow(0px 1px 2px rgba(0, 0, 0, 0.3));\n",
              "      fill: #FFFFFF;\n",
              "    }\n",
              "  </style>\n",
              "\n",
              "      <script>\n",
              "        const buttonEl =\n",
              "          document.querySelector('#df-78cb73ab-ce46-498b-bbcd-6f5a7ed36560 button.colab-df-convert');\n",
              "        buttonEl.style.display =\n",
              "          google.colab.kernel.accessAllowed ? 'block' : 'none';\n",
              "\n",
              "        async function convertToInteractive(key) {\n",
              "          const element = document.querySelector('#df-78cb73ab-ce46-498b-bbcd-6f5a7ed36560');\n",
              "          const dataTable =\n",
              "            await google.colab.kernel.invokeFunction('convertToInteractive',\n",
              "                                                     [key], {});\n",
              "          if (!dataTable) return;\n",
              "\n",
              "          const docLinkHtml = 'Like what you see? Visit the ' +\n",
              "            '<a target=\"_blank\" href=https://colab.research.google.com/notebooks/data_table.ipynb>data table notebook</a>'\n",
              "            + ' to learn more about interactive tables.';\n",
              "          element.innerHTML = '';\n",
              "          dataTable['output_type'] = 'display_data';\n",
              "          await google.colab.output.renderOutput(dataTable, element);\n",
              "          const docLink = document.createElement('div');\n",
              "          docLink.innerHTML = docLinkHtml;\n",
              "          element.appendChild(docLink);\n",
              "        }\n",
              "      </script>\n",
              "    </div>\n",
              "  </div>\n",
              "  "
            ]
          },
          "metadata": {},
          "execution_count": 12
        }
      ]
    },
    {
      "cell_type": "code",
      "source": [
        "test_df.head()"
      ],
      "metadata": {
        "colab": {
          "base_uri": "https://localhost:8080/",
          "height": 206
        },
        "id": "HrsJZCp2kfF_",
        "outputId": "26fffe34-2c84-4432-8405-6e33e9306d19"
      },
      "execution_count": null,
      "outputs": [
        {
          "output_type": "execute_result",
          "data": {
            "text/plain": [
              "   line_number      target                                               text  \\\n",
              "0            0  BACKGROUND  this study analyzed liver function abnormaliti...   \n",
              "1            1     RESULTS  a post hoc analysis was conducted with the use...   \n",
              "2            2     RESULTS  liver function tests ( lfts ) were measured at...   \n",
              "3            3     RESULTS  survival analyses were used to assess the asso...   \n",
              "4            4     RESULTS  the percentage of patients with abnormal lfts ...   \n",
              "\n",
              "   total_lines  \n",
              "0            8  \n",
              "1            8  \n",
              "2            8  \n",
              "3            8  \n",
              "4            8  "
            ],
            "text/html": [
              "\n",
              "  <div id=\"df-e94a14d4-8604-417c-935d-621ce9719289\">\n",
              "    <div class=\"colab-df-container\">\n",
              "      <div>\n",
              "<style scoped>\n",
              "    .dataframe tbody tr th:only-of-type {\n",
              "        vertical-align: middle;\n",
              "    }\n",
              "\n",
              "    .dataframe tbody tr th {\n",
              "        vertical-align: top;\n",
              "    }\n",
              "\n",
              "    .dataframe thead th {\n",
              "        text-align: right;\n",
              "    }\n",
              "</style>\n",
              "<table border=\"1\" class=\"dataframe\">\n",
              "  <thead>\n",
              "    <tr style=\"text-align: right;\">\n",
              "      <th></th>\n",
              "      <th>line_number</th>\n",
              "      <th>target</th>\n",
              "      <th>text</th>\n",
              "      <th>total_lines</th>\n",
              "    </tr>\n",
              "  </thead>\n",
              "  <tbody>\n",
              "    <tr>\n",
              "      <th>0</th>\n",
              "      <td>0</td>\n",
              "      <td>BACKGROUND</td>\n",
              "      <td>this study analyzed liver function abnormaliti...</td>\n",
              "      <td>8</td>\n",
              "    </tr>\n",
              "    <tr>\n",
              "      <th>1</th>\n",
              "      <td>1</td>\n",
              "      <td>RESULTS</td>\n",
              "      <td>a post hoc analysis was conducted with the use...</td>\n",
              "      <td>8</td>\n",
              "    </tr>\n",
              "    <tr>\n",
              "      <th>2</th>\n",
              "      <td>2</td>\n",
              "      <td>RESULTS</td>\n",
              "      <td>liver function tests ( lfts ) were measured at...</td>\n",
              "      <td>8</td>\n",
              "    </tr>\n",
              "    <tr>\n",
              "      <th>3</th>\n",
              "      <td>3</td>\n",
              "      <td>RESULTS</td>\n",
              "      <td>survival analyses were used to assess the asso...</td>\n",
              "      <td>8</td>\n",
              "    </tr>\n",
              "    <tr>\n",
              "      <th>4</th>\n",
              "      <td>4</td>\n",
              "      <td>RESULTS</td>\n",
              "      <td>the percentage of patients with abnormal lfts ...</td>\n",
              "      <td>8</td>\n",
              "    </tr>\n",
              "  </tbody>\n",
              "</table>\n",
              "</div>\n",
              "      <button class=\"colab-df-convert\" onclick=\"convertToInteractive('df-e94a14d4-8604-417c-935d-621ce9719289')\"\n",
              "              title=\"Convert this dataframe to an interactive table.\"\n",
              "              style=\"display:none;\">\n",
              "        \n",
              "  <svg xmlns=\"http://www.w3.org/2000/svg\" height=\"24px\"viewBox=\"0 0 24 24\"\n",
              "       width=\"24px\">\n",
              "    <path d=\"M0 0h24v24H0V0z\" fill=\"none\"/>\n",
              "    <path d=\"M18.56 5.44l.94 2.06.94-2.06 2.06-.94-2.06-.94-.94-2.06-.94 2.06-2.06.94zm-11 1L8.5 8.5l.94-2.06 2.06-.94-2.06-.94L8.5 2.5l-.94 2.06-2.06.94zm10 10l.94 2.06.94-2.06 2.06-.94-2.06-.94-.94-2.06-.94 2.06-2.06.94z\"/><path d=\"M17.41 7.96l-1.37-1.37c-.4-.4-.92-.59-1.43-.59-.52 0-1.04.2-1.43.59L10.3 9.45l-7.72 7.72c-.78.78-.78 2.05 0 2.83L4 21.41c.39.39.9.59 1.41.59.51 0 1.02-.2 1.41-.59l7.78-7.78 2.81-2.81c.8-.78.8-2.07 0-2.86zM5.41 20L4 18.59l7.72-7.72 1.47 1.35L5.41 20z\"/>\n",
              "  </svg>\n",
              "      </button>\n",
              "      \n",
              "  <style>\n",
              "    .colab-df-container {\n",
              "      display:flex;\n",
              "      flex-wrap:wrap;\n",
              "      gap: 12px;\n",
              "    }\n",
              "\n",
              "    .colab-df-convert {\n",
              "      background-color: #E8F0FE;\n",
              "      border: none;\n",
              "      border-radius: 50%;\n",
              "      cursor: pointer;\n",
              "      display: none;\n",
              "      fill: #1967D2;\n",
              "      height: 32px;\n",
              "      padding: 0 0 0 0;\n",
              "      width: 32px;\n",
              "    }\n",
              "\n",
              "    .colab-df-convert:hover {\n",
              "      background-color: #E2EBFA;\n",
              "      box-shadow: 0px 1px 2px rgba(60, 64, 67, 0.3), 0px 1px 3px 1px rgba(60, 64, 67, 0.15);\n",
              "      fill: #174EA6;\n",
              "    }\n",
              "\n",
              "    [theme=dark] .colab-df-convert {\n",
              "      background-color: #3B4455;\n",
              "      fill: #D2E3FC;\n",
              "    }\n",
              "\n",
              "    [theme=dark] .colab-df-convert:hover {\n",
              "      background-color: #434B5C;\n",
              "      box-shadow: 0px 1px 3px 1px rgba(0, 0, 0, 0.15);\n",
              "      filter: drop-shadow(0px 1px 2px rgba(0, 0, 0, 0.3));\n",
              "      fill: #FFFFFF;\n",
              "    }\n",
              "  </style>\n",
              "\n",
              "      <script>\n",
              "        const buttonEl =\n",
              "          document.querySelector('#df-e94a14d4-8604-417c-935d-621ce9719289 button.colab-df-convert');\n",
              "        buttonEl.style.display =\n",
              "          google.colab.kernel.accessAllowed ? 'block' : 'none';\n",
              "\n",
              "        async function convertToInteractive(key) {\n",
              "          const element = document.querySelector('#df-e94a14d4-8604-417c-935d-621ce9719289');\n",
              "          const dataTable =\n",
              "            await google.colab.kernel.invokeFunction('convertToInteractive',\n",
              "                                                     [key], {});\n",
              "          if (!dataTable) return;\n",
              "\n",
              "          const docLinkHtml = 'Like what you see? Visit the ' +\n",
              "            '<a target=\"_blank\" href=https://colab.research.google.com/notebooks/data_table.ipynb>data table notebook</a>'\n",
              "            + ' to learn more about interactive tables.';\n",
              "          element.innerHTML = '';\n",
              "          dataTable['output_type'] = 'display_data';\n",
              "          await google.colab.output.renderOutput(dataTable, element);\n",
              "          const docLink = document.createElement('div');\n",
              "          docLink.innerHTML = docLinkHtml;\n",
              "          element.appendChild(docLink);\n",
              "        }\n",
              "      </script>\n",
              "    </div>\n",
              "  </div>\n",
              "  "
            ]
          },
          "metadata": {},
          "execution_count": 13
        }
      ]
    },
    {
      "cell_type": "code",
      "source": [
        "val_df.head()"
      ],
      "metadata": {
        "colab": {
          "base_uri": "https://localhost:8080/",
          "height": 206
        },
        "id": "WgWKaALZkpGP",
        "outputId": "6768a65e-9825-460b-8987-c4a1359e6005"
      },
      "execution_count": null,
      "outputs": [
        {
          "output_type": "execute_result",
          "data": {
            "text/plain": [
              "   line_number      target                                               text  \\\n",
              "0            0  BACKGROUND  ige sensitization to aspergillus fumigatus and...   \n",
              "1            1  BACKGROUND  it is not clear whether these patients would b...   \n",
              "2            2   OBJECTIVE  we sought to determine whether a @-month cours...   \n",
              "3            3     METHODS  asthmatic patients who were ige sensitized to ...   \n",
              "4            4     METHODS  primary outcomes were improvement in quality o...   \n",
              "\n",
              "   total_lines  \n",
              "0            9  \n",
              "1            9  \n",
              "2            9  \n",
              "3            9  \n",
              "4            9  "
            ],
            "text/html": [
              "\n",
              "  <div id=\"df-bfd94877-78d3-447a-9522-3e6d32a6d7d2\">\n",
              "    <div class=\"colab-df-container\">\n",
              "      <div>\n",
              "<style scoped>\n",
              "    .dataframe tbody tr th:only-of-type {\n",
              "        vertical-align: middle;\n",
              "    }\n",
              "\n",
              "    .dataframe tbody tr th {\n",
              "        vertical-align: top;\n",
              "    }\n",
              "\n",
              "    .dataframe thead th {\n",
              "        text-align: right;\n",
              "    }\n",
              "</style>\n",
              "<table border=\"1\" class=\"dataframe\">\n",
              "  <thead>\n",
              "    <tr style=\"text-align: right;\">\n",
              "      <th></th>\n",
              "      <th>line_number</th>\n",
              "      <th>target</th>\n",
              "      <th>text</th>\n",
              "      <th>total_lines</th>\n",
              "    </tr>\n",
              "  </thead>\n",
              "  <tbody>\n",
              "    <tr>\n",
              "      <th>0</th>\n",
              "      <td>0</td>\n",
              "      <td>BACKGROUND</td>\n",
              "      <td>ige sensitization to aspergillus fumigatus and...</td>\n",
              "      <td>9</td>\n",
              "    </tr>\n",
              "    <tr>\n",
              "      <th>1</th>\n",
              "      <td>1</td>\n",
              "      <td>BACKGROUND</td>\n",
              "      <td>it is not clear whether these patients would b...</td>\n",
              "      <td>9</td>\n",
              "    </tr>\n",
              "    <tr>\n",
              "      <th>2</th>\n",
              "      <td>2</td>\n",
              "      <td>OBJECTIVE</td>\n",
              "      <td>we sought to determine whether a @-month cours...</td>\n",
              "      <td>9</td>\n",
              "    </tr>\n",
              "    <tr>\n",
              "      <th>3</th>\n",
              "      <td>3</td>\n",
              "      <td>METHODS</td>\n",
              "      <td>asthmatic patients who were ige sensitized to ...</td>\n",
              "      <td>9</td>\n",
              "    </tr>\n",
              "    <tr>\n",
              "      <th>4</th>\n",
              "      <td>4</td>\n",
              "      <td>METHODS</td>\n",
              "      <td>primary outcomes were improvement in quality o...</td>\n",
              "      <td>9</td>\n",
              "    </tr>\n",
              "  </tbody>\n",
              "</table>\n",
              "</div>\n",
              "      <button class=\"colab-df-convert\" onclick=\"convertToInteractive('df-bfd94877-78d3-447a-9522-3e6d32a6d7d2')\"\n",
              "              title=\"Convert this dataframe to an interactive table.\"\n",
              "              style=\"display:none;\">\n",
              "        \n",
              "  <svg xmlns=\"http://www.w3.org/2000/svg\" height=\"24px\"viewBox=\"0 0 24 24\"\n",
              "       width=\"24px\">\n",
              "    <path d=\"M0 0h24v24H0V0z\" fill=\"none\"/>\n",
              "    <path d=\"M18.56 5.44l.94 2.06.94-2.06 2.06-.94-2.06-.94-.94-2.06-.94 2.06-2.06.94zm-11 1L8.5 8.5l.94-2.06 2.06-.94-2.06-.94L8.5 2.5l-.94 2.06-2.06.94zm10 10l.94 2.06.94-2.06 2.06-.94-2.06-.94-.94-2.06-.94 2.06-2.06.94z\"/><path d=\"M17.41 7.96l-1.37-1.37c-.4-.4-.92-.59-1.43-.59-.52 0-1.04.2-1.43.59L10.3 9.45l-7.72 7.72c-.78.78-.78 2.05 0 2.83L4 21.41c.39.39.9.59 1.41.59.51 0 1.02-.2 1.41-.59l7.78-7.78 2.81-2.81c.8-.78.8-2.07 0-2.86zM5.41 20L4 18.59l7.72-7.72 1.47 1.35L5.41 20z\"/>\n",
              "  </svg>\n",
              "      </button>\n",
              "      \n",
              "  <style>\n",
              "    .colab-df-container {\n",
              "      display:flex;\n",
              "      flex-wrap:wrap;\n",
              "      gap: 12px;\n",
              "    }\n",
              "\n",
              "    .colab-df-convert {\n",
              "      background-color: #E8F0FE;\n",
              "      border: none;\n",
              "      border-radius: 50%;\n",
              "      cursor: pointer;\n",
              "      display: none;\n",
              "      fill: #1967D2;\n",
              "      height: 32px;\n",
              "      padding: 0 0 0 0;\n",
              "      width: 32px;\n",
              "    }\n",
              "\n",
              "    .colab-df-convert:hover {\n",
              "      background-color: #E2EBFA;\n",
              "      box-shadow: 0px 1px 2px rgba(60, 64, 67, 0.3), 0px 1px 3px 1px rgba(60, 64, 67, 0.15);\n",
              "      fill: #174EA6;\n",
              "    }\n",
              "\n",
              "    [theme=dark] .colab-df-convert {\n",
              "      background-color: #3B4455;\n",
              "      fill: #D2E3FC;\n",
              "    }\n",
              "\n",
              "    [theme=dark] .colab-df-convert:hover {\n",
              "      background-color: #434B5C;\n",
              "      box-shadow: 0px 1px 3px 1px rgba(0, 0, 0, 0.15);\n",
              "      filter: drop-shadow(0px 1px 2px rgba(0, 0, 0, 0.3));\n",
              "      fill: #FFFFFF;\n",
              "    }\n",
              "  </style>\n",
              "\n",
              "      <script>\n",
              "        const buttonEl =\n",
              "          document.querySelector('#df-bfd94877-78d3-447a-9522-3e6d32a6d7d2 button.colab-df-convert');\n",
              "        buttonEl.style.display =\n",
              "          google.colab.kernel.accessAllowed ? 'block' : 'none';\n",
              "\n",
              "        async function convertToInteractive(key) {\n",
              "          const element = document.querySelector('#df-bfd94877-78d3-447a-9522-3e6d32a6d7d2');\n",
              "          const dataTable =\n",
              "            await google.colab.kernel.invokeFunction('convertToInteractive',\n",
              "                                                     [key], {});\n",
              "          if (!dataTable) return;\n",
              "\n",
              "          const docLinkHtml = 'Like what you see? Visit the ' +\n",
              "            '<a target=\"_blank\" href=https://colab.research.google.com/notebooks/data_table.ipynb>data table notebook</a>'\n",
              "            + ' to learn more about interactive tables.';\n",
              "          element.innerHTML = '';\n",
              "          dataTable['output_type'] = 'display_data';\n",
              "          await google.colab.output.renderOutput(dataTable, element);\n",
              "          const docLink = document.createElement('div');\n",
              "          docLink.innerHTML = docLinkHtml;\n",
              "          element.appendChild(docLink);\n",
              "        }\n",
              "      </script>\n",
              "    </div>\n",
              "  </div>\n",
              "  "
            ]
          },
          "metadata": {},
          "execution_count": 14
        }
      ]
    },
    {
      "cell_type": "code",
      "source": [
        "train_df.target.value_counts()"
      ],
      "metadata": {
        "colab": {
          "base_uri": "https://localhost:8080/"
        },
        "id": "5uiB43-gkq8O",
        "outputId": "96cc5930-b9ac-438a-c032-c87142690a5a"
      },
      "execution_count": null,
      "outputs": [
        {
          "output_type": "execute_result",
          "data": {
            "text/plain": [
              "METHODS        59353\n",
              "RESULTS        57953\n",
              "CONCLUSIONS    27168\n",
              "BACKGROUND     21727\n",
              "OBJECTIVE      13839\n",
              "Name: target, dtype: int64"
            ]
          },
          "metadata": {},
          "execution_count": 15
        }
      ]
    },
    {
      "cell_type": "code",
      "source": [
        "train_df.total_lines.hist()"
      ],
      "metadata": {
        "colab": {
          "base_uri": "https://localhost:8080/",
          "height": 284
        },
        "id": "butWaqKelTHR",
        "outputId": "5d0722c4-6b89-42fd-d42d-33265b7eba70"
      },
      "execution_count": null,
      "outputs": [
        {
          "output_type": "execute_result",
          "data": {
            "text/plain": [
              "<matplotlib.axes._subplots.AxesSubplot at 0x7f5d9a90ec40>"
            ]
          },
          "metadata": {},
          "execution_count": 16
        },
        {
          "output_type": "display_data",
          "data": {
            "text/plain": [
              "<Figure size 432x288 with 1 Axes>"
            ],
            "image/png": "[encoded data removed]"
          },
          "metadata": {
            "needs_background": "light"
          }
        }
      ]
    },
    {
      "cell_type": "markdown",
      "source": [
        "## **Convert text into numbers**"
      ],
      "metadata": {
        "id": "bs_NlAKoq7Cy"
      }
    },
    {
      "cell_type": "markdown",
      "source": [
        "There are many ways to convert text into numbers.\n",
        "\n",
        "* One Hot Encoder\n",
        "* Label Encoder"
      ],
      "metadata": {
        "id": "Sa-xc3oNrCII"
      }
    },
    {
      "cell_type": "code",
      "source": [
        "# OnehotEncoding \n",
        "\n",
        "from sklearn.preprocessing import OneHotEncoder\n",
        "\n",
        "one_hot_encoder=OneHotEncoder(sparse=False)\n",
        "train_labels_one_hot=one_hot_encoder.fit_transform(train_df['target'].to_numpy().reshape(-1,1))\n",
        "test_labels_one_hot=one_hot_encoder.fit_transform(test_df['target'].to_numpy().reshape(-1,1))\n",
        "val_labels_one_hot=one_hot_encoder.fit_transform(val_df['target'].to_numpy().reshape(-1,1))\n"
      ],
      "metadata": {
        "id": "atdXNPIPlxvq"
      },
      "execution_count": null,
      "outputs": []
    },
    {
      "cell_type": "code",
      "source": [
        "# LabelEncoding\n",
        "\n",
        "from sklearn.preprocessing import LabelEncoder\n",
        "\n",
        "label_encoder=LabelEncoder()\n",
        "\n",
        "train_label_encoded=label_encoder.fit_transform(train_df['target'].to_numpy())\n",
        "test_label_encoded=label_encoder.transform(test_df['target'].to_numpy())\n",
        "val_label_encoded=label_encoder.transform(val_df['target'].to_numpy())\n"
      ],
      "metadata": {
        "id": "4uF2M7l9rwrz"
      },
      "execution_count": null,
      "outputs": []
    },
    {
      "cell_type": "code",
      "source": [
        "train_label_encoded"
      ],
      "metadata": {
        "colab": {
          "base_uri": "https://localhost:8080/"
        },
        "id": "TsfPbA8Qr0kT",
        "outputId": "d48283ce-99c4-4ad5-b63d-fba53534e149"
      },
      "execution_count": null,
      "outputs": [
        {
          "output_type": "execute_result",
          "data": {
            "text/plain": [
              "array([3, 2, 2, ..., 4, 1, 1])"
            ]
          },
          "metadata": {},
          "execution_count": 19
        }
      ]
    },
    {
      "cell_type": "code",
      "source": [
        "label_encoder.classes_"
      ],
      "metadata": {
        "colab": {
          "base_uri": "https://localhost:8080/"
        },
        "id": "VziRJKq2s0lv",
        "outputId": "aea3ef9a-927b-4774-c004-58601aee35ae"
      },
      "execution_count": null,
      "outputs": [
        {
          "output_type": "execute_result",
          "data": {
            "text/plain": [
              "array(['BACKGROUND', 'CONCLUSIONS', 'METHODS', 'OBJECTIVE', 'RESULTS'],\n",
              "      dtype=object)"
            ]
          },
          "metadata": {},
          "execution_count": 20
        }
      ]
    },
    {
      "cell_type": "code",
      "source": [
        "train_sentences=train_df['text']\n",
        "test_sentences=test_df['text']\n",
        "val_sentences=val_df['text']"
      ],
      "metadata": {
        "id": "oGyiokjwukbZ"
      },
      "execution_count": null,
      "outputs": []
    },
    {
      "cell_type": "markdown",
      "source": [
        "## **Model 0 : Baseline model( TFidf )**"
      ],
      "metadata": {
        "id": "4VY8OFqpwDV-"
      }
    },
    {
      "cell_type": "code",
      "source": [
        "from sklearn.naive_bayes import MultinomialNB\n",
        "from sklearn.feature_extraction.text import TfidfVectorizer\n",
        "from sklearn.pipeline import Pipeline"
      ],
      "metadata": {
        "id": "fwfHfSz3vlEj"
      },
      "execution_count": null,
      "outputs": []
    },
    {
      "cell_type": "code",
      "source": [
        "model_0=Pipeline([\n",
        "    ('tfid',TfidfVectorizer()),\n",
        "    ('clf',MultinomialNB())\n",
        "])"
      ],
      "metadata": {
        "id": "jNVwNi-CwzB2"
      },
      "execution_count": null,
      "outputs": []
    },
    {
      "cell_type": "code",
      "source": [
        "model_0.fit(train_sentences,train_label_encoded)"
      ],
      "metadata": {
        "colab": {
          "base_uri": "https://localhost:8080/"
        },
        "id": "YJhi9e4hxcPS",
        "outputId": "f5213ee4-fab8-4a34-d513-83a404f1a016"
      },
      "execution_count": null,
      "outputs": [
        {
          "output_type": "execute_result",
          "data": {
            "text/plain": [
              "Pipeline(steps=[('tfid', TfidfVectorizer()), ('clf', MultinomialNB())])"
            ]
          },
          "metadata": {},
          "execution_count": 24
        }
      ]
    },
    {
      "cell_type": "code",
      "source": [
        "model_0.score(val_sentences,val_label_encoded)"
      ],
      "metadata": {
        "colab": {
          "base_uri": "https://localhost:8080/"
        },
        "id": "mLkNL8OaxlHx",
        "outputId": "f179faf2-41ca-45b6-bdbe-9ed093628402"
      },
      "execution_count": null,
      "outputs": [
        {
          "output_type": "execute_result",
          "data": {
            "text/plain": [
              "0.7218323844829869"
            ]
          },
          "metadata": {},
          "execution_count": 25
        }
      ]
    },
    {
      "cell_type": "code",
      "source": [
        "# make a function to evaluate model experiments\n",
        "\n",
        "from sklearn.metrics import precision_score,recall_score,accuracy_score,f1_score\n",
        "\n",
        "def evaluate_model(y_true,y_preds):\n",
        "  model_accuracy=accuracy_score(y_true,y_preds)\n",
        "  model_recall=recall_score(y_true,y_preds,average='weighted')\n",
        "  model_precision=precision_score(y_true,y_preds,average='weighted')\n",
        "  model_f1=f1_score(y_true,y_preds,average='weighted')\n",
        "\n",
        "  return {\n",
        "      \"accuracy\":model_accuracy,\n",
        "      \"recall\":model_recall,\n",
        "      \"precision\":model_precision,\n",
        "      \"f1-score\":model_f1\n",
        "  }"
      ],
      "metadata": {
        "id": "XYVkN-texs9C"
      },
      "execution_count": null,
      "outputs": []
    },
    {
      "cell_type": "code",
      "source": [
        "model_0_preds=model_0.predict(val_sentences)"
      ],
      "metadata": {
        "id": "JP5Sxxz-x49-"
      },
      "execution_count": null,
      "outputs": []
    },
    {
      "cell_type": "code",
      "source": [
        "baseline_results=evaluate_model(y_preds=model_0_preds,y_true=val_label_encoded)\n",
        "baseline_results"
      ],
      "metadata": {
        "id": "TWs9Gg15yJNH",
        "colab": {
          "base_uri": "https://localhost:8080/"
        },
        "outputId": "725131fe-a9de-427d-86cb-71a25d5a5027"
      },
      "execution_count": null,
      "outputs": [
        {
          "output_type": "execute_result",
          "data": {
            "text/plain": [
              "{'accuracy': 0.7218323844829869,\n",
              " 'recall': 0.7218323844829869,\n",
              " 'precision': 0.7186466952323352,\n",
              " 'f1-score': 0.6989250353450294}"
            ]
          },
          "metadata": {},
          "execution_count": 28
        }
      ]
    },
    {
      "cell_type": "markdown",
      "source": [
        "## **Vectorization and Embedding**"
      ],
      "metadata": {
        "id": "-Y2I5U1Ayi_U"
      }
    },
    {
      "cell_type": "code",
      "source": [
        "import numpy as np"
      ],
      "metadata": {
        "id": "oNN7nME7S7m0"
      },
      "execution_count": null,
      "outputs": []
    },
    {
      "cell_type": "code",
      "source": [
        "output_lens=[len(x.split()) for x in train_sentences]\n",
        "np.mean(output_lens)"
      ],
      "metadata": {
        "colab": {
          "base_uri": "https://localhost:8080/"
        },
        "id": "ZMc_-GihTQST",
        "outputId": "14c47c06-eec9-45d8-c66b-cfacca1cb033"
      },
      "execution_count": null,
      "outputs": [
        {
          "output_type": "execute_result",
          "data": {
            "text/plain": [
              "26.338269273494777"
            ]
          },
          "metadata": {},
          "execution_count": 16
        }
      ]
    },
    {
      "cell_type": "code",
      "source": [
        "train_sentences.map(lambda x : len(x.split())).hist(bins=20)"
      ],
      "metadata": {
        "colab": {
          "base_uri": "https://localhost:8080/",
          "height": 282
        },
        "id": "8-um15BYRmJh",
        "outputId": "b4e93a7c-4c14-4bdc-a17d-6b7d5c39af4b"
      },
      "execution_count": null,
      "outputs": [
        {
          "output_type": "execute_result",
          "data": {
            "text/plain": [
              "<matplotlib.axes._subplots.AxesSubplot at 0x7f5d91f63220>"
            ]
          },
          "metadata": {},
          "execution_count": 31
        },
        {
          "output_type": "display_data",
          "data": {
            "text/plain": [
              "<Figure size 432x288 with 1 Axes>"
            ],
            "image/png": "[encoded data removed]"
          },
          "metadata": {
            "needs_background": "light"
          }
        }
      ]
    },
    {
      "cell_type": "code",
      "source": [
        "output_seq_len=np.percentile(train_sentences.map(lambda x : len(x.split())),95)\n",
        "output_seq_len"
      ],
      "metadata": {
        "colab": {
          "base_uri": "https://localhost:8080/"
        },
        "id": "S6n7Nlu3RmGF",
        "outputId": "b0de7c37-b354-4d39-fc43-1781906f8437"
      },
      "execution_count": null,
      "outputs": [
        {
          "output_type": "execute_result",
          "data": {
            "text/plain": [
              "55.0"
            ]
          },
          "metadata": {},
          "execution_count": 17
        }
      ]
    },
    {
      "cell_type": "markdown",
      "source": [
        "### vectorizer"
      ],
      "metadata": {
        "id": "AVl5pdhWXDx8"
      }
    },
    {
      "cell_type": "code",
      "source": [
        "from tensorflow.keras.layers.experimental.preprocessing import TextVectorization"
      ],
      "metadata": {
        "id": "kChEjk2KtGbd"
      },
      "execution_count": null,
      "outputs": []
    },
    {
      "cell_type": "code",
      "source": [
        "max_vocab_length=68000\n",
        "max_length=int(output_seq_len)\n",
        "word_vectorizer=TextVectorization(max_tokens=max_vocab_length,\n",
        "                                  output_mode='int',\n",
        "                                  output_sequence_length=max_length)"
      ],
      "metadata": {
        "id": "hYnFqzXbuSmI"
      },
      "execution_count": null,
      "outputs": []
    },
    {
      "cell_type": "code",
      "source": [
        "word_vectorizer.adapt(train_sentences)"
      ],
      "metadata": {
        "id": "-wClELTEvF2f"
      },
      "execution_count": null,
      "outputs": []
    },
    {
      "cell_type": "code",
      "source": [
        "word_vectorizer([val_sentences[911]])"
      ],
      "metadata": {
        "colab": {
          "base_uri": "https://localhost:8080/"
        },
        "id": "_ByKH9EfvfIT",
        "outputId": "30f80dcf-934f-4031-c85e-85eea3ad3bf2"
      },
      "execution_count": null,
      "outputs": [
        {
          "output_type": "execute_result",
          "data": {
            "text/plain": [
              "<tf.Tensor: shape=(1, 55), dtype=int64, numpy=\n",
              "array([[   8, 1941,    4,    1,   40,    3,    1,   40,  104,   10,  437,\n",
              "          51,    6,  297,  361,  145,    6,   64,    0,    0,    0,    0,\n",
              "           0,    0,    0,    0,    0,    0,    0,    0,    0,    0,    0,\n",
              "           0,    0,    0,    0,    0,    0,    0,    0,    0,    0,    0,\n",
              "           0,    0,    0,    0,    0,    0,    0,    0,    0,    0,    0]])>"
            ]
          },
          "metadata": {},
          "execution_count": 21
        }
      ]
    },
    {
      "cell_type": "code",
      "source": [
        "pub_20k_vocab=word_vectorizer.get_vocabulary()"
      ],
      "metadata": {
        "id": "TcI-5EmZUusZ"
      },
      "execution_count": null,
      "outputs": []
    },
    {
      "cell_type": "code",
      "source": [
        "pub_20k_vocab[:10]"
      ],
      "metadata": {
        "colab": {
          "base_uri": "https://localhost:8080/"
        },
        "id": "hEopgPT8V1B4",
        "outputId": "33db674e-725d-449a-e484-8e39bf54aac5"
      },
      "execution_count": null,
      "outputs": [
        {
          "output_type": "execute_result",
          "data": {
            "text/plain": [
              "['', '[UNK]', 'the', 'and', 'of', 'in', 'to', 'with', 'a', 'were']"
            ]
          },
          "metadata": {},
          "execution_count": 39
        }
      ]
    },
    {
      "cell_type": "code",
      "source": [
        "pub_20k_vocab[-10:]"
      ],
      "metadata": {
        "colab": {
          "base_uri": "https://localhost:8080/"
        },
        "id": "uXrS8lWQV80V",
        "outputId": "5a052b4b-baf4-46b0-ca8c-9c42f187d50f"
      },
      "execution_count": null,
      "outputs": [
        {
          "output_type": "execute_result",
          "data": {
            "text/plain": [
              "['aarm',\n",
              " 'aaqol',\n",
              " 'aaq',\n",
              " 'aanhui',\n",
              " 'aana',\n",
              " 'aainduced',\n",
              " 'aaigroup',\n",
              " 'aachener',\n",
              " 'aachen',\n",
              " 'aaacp']"
            ]
          },
          "metadata": {},
          "execution_count": 40
        }
      ]
    },
    {
      "cell_type": "code",
      "source": [
        "import tensorflow as tf"
      ],
      "metadata": {
        "id": "t0mXfxJpWqZO"
      },
      "execution_count": null,
      "outputs": []
    },
    {
      "cell_type": "markdown",
      "source": [
        "### Embedding"
      ],
      "metadata": {
        "id": "i09LFgDoXG0b"
      }
    },
    {
      "cell_type": "code",
      "source": [
        "word_embedding=tf.keras.layers.Embedding(\n",
        "    input_dim=max_vocab_length,\n",
        "    output_dim=128,\n",
        "    mask_zero=True,\n",
        "    name='word_embedding'\n",
        ")"
      ],
      "metadata": {
        "id": "I2mSogDFWA5a"
      },
      "execution_count": null,
      "outputs": []
    },
    {
      "cell_type": "code",
      "source": [
        "word_embedding(word_vectorizer([val_sentences[911]]))"
      ],
      "metadata": {
        "colab": {
          "base_uri": "https://localhost:8080/"
        },
        "id": "uepGpq-NXz-h",
        "outputId": "2ea796ee-2818-4ae5-b570-e2b083ad0b0f"
      },
      "execution_count": null,
      "outputs": [
        {
          "output_type": "execute_result",
          "data": {
            "text/plain": [
              "<tf.Tensor: shape=(1, 55, 128), dtype=float32, numpy=\n",
              "array([[[-0.0193478 ,  0.00350001, -0.04385153, ..., -0.04276624,\n",
              "          0.00328431,  0.04873155],\n",
              "        [ 0.03984113, -0.03593364,  0.00488651, ..., -0.01853736,\n",
              "         -0.01104454,  0.04682556],\n",
              "        [-0.03523695,  0.03002379, -0.02346654, ...,  0.02493064,\n",
              "         -0.00495265, -0.01741431],\n",
              "        ...,\n",
              "        [-0.02605271, -0.01250907,  0.01466267, ...,  0.00848417,\n",
              "          0.0162403 ,  0.0456066 ],\n",
              "        [-0.02605271, -0.01250907,  0.01466267, ...,  0.00848417,\n",
              "          0.0162403 ,  0.0456066 ],\n",
              "        [-0.02605271, -0.01250907,  0.01466267, ...,  0.00848417,\n",
              "          0.0162403 ,  0.0456066 ]]], dtype=float32)>"
            ]
          },
          "metadata": {},
          "execution_count": 43
        }
      ]
    },
    {
      "cell_type": "code",
      "source": [
        "idx=911\n",
        "\n",
        "print(\"Actual sentence : \",val_sentences[idx])\n",
        "print('\\nlen of sentence : ',len(val_sentences[idx].split()))\n",
        "\n",
        "print('\\nAfter Vectorization\\n')\n",
        "print(word_vectorizer([val_sentences[idx]]))\n",
        "\n",
        "print('\\nAfter Embedding\\n')\n",
        "print(word_embedding(word_vectorizer([val_sentences[idx]])))"
      ],
      "metadata": {
        "colab": {
          "base_uri": "https://localhost:8080/"
        },
        "id": "s-8jayFEX6kh",
        "outputId": "1a040440-ed42-433f-8537-73e721bf8cc1"
      },
      "execution_count": null,
      "outputs": [
        {
          "output_type": "stream",
          "name": "stdout",
          "text": [
            "Actual sentence :  a subset of ush@ ( n = @ ) and ush@ ( n = @ ) subjects was examined two to four times over @ to @ years .\n",
            "\n",
            "len of sentence :  29\n",
            "\n",
            "After Vectorization\n",
            "\n",
            "tf.Tensor(\n",
            "[[   8 1941    4    1   40    3    1   40  104   10  437   51    6  297\n",
            "   361  145    6   64    0    0    0    0    0    0    0    0    0    0\n",
            "     0    0    0    0    0    0    0    0    0    0    0    0    0    0\n",
            "     0    0    0    0    0    0    0    0    0    0    0    0    0]], shape=(1, 55), dtype=int64)\n",
            "\n",
            "After Embedding\n",
            "\n",
            "tf.Tensor(\n",
            "[[[-0.0193478   0.00350001 -0.04385153 ... -0.04276624  0.00328431\n",
            "    0.04873155]\n",
            "  [ 0.03984113 -0.03593364  0.00488651 ... -0.01853736 -0.01104454\n",
            "    0.04682556]\n",
            "  [-0.03523695  0.03002379 -0.02346654 ...  0.02493064 -0.00495265\n",
            "   -0.01741431]\n",
            "  ...\n",
            "  [-0.02605271 -0.01250907  0.01466267 ...  0.00848417  0.0162403\n",
            "    0.0456066 ]\n",
            "  [-0.02605271 -0.01250907  0.01466267 ...  0.00848417  0.0162403\n",
            "    0.0456066 ]\n",
            "  [-0.02605271 -0.01250907  0.01466267 ...  0.00848417  0.0162403\n",
            "    0.0456066 ]]], shape=(1, 55, 128), dtype=float32)\n"
          ]
        }
      ]
    },
    {
      "cell_type": "markdown",
      "source": [
        "## **Turn data into Tensor Datasets**\n",
        "\n",
        "So we can achive faster computing by prefetching and batching..."
      ],
      "metadata": {
        "id": "_-Qs00i8bS5_"
      }
    },
    {
      "cell_type": "code",
      "source": [
        "train_dataset=tf.data.Dataset.from_tensor_slices((train_sentences,train_labels_one_hot))\n",
        "test_dataset=tf.data.Dataset.from_tensor_slices((test_sentences,test_labels_one_hot))\n",
        "val_dataset=tf.data.Dataset.from_tensor_slices((val_sentences,val_labels_one_hot))\n",
        "\n",
        "train_dataset=train_dataset.batch(32).prefetch(tf.data.AUTOTUNE)\n",
        "test_dataset=test_dataset.batch(32).prefetch(tf.data.AUTOTUNE)\n",
        "val_dataset=val_dataset.batch(32).prefetch(tf.data.AUTOTUNE)"
      ],
      "metadata": {
        "id": "VnzqoDxxYnPy"
      },
      "execution_count": null,
      "outputs": []
    },
    {
      "cell_type": "markdown",
      "source": [
        "## **Model 1 : Conv1D**"
      ],
      "metadata": {
        "id": "L7UgbTYLdyEi"
      }
    },
    {
      "cell_type": "code",
      "source": [
        "from tensorflow.keras import layers"
      ],
      "metadata": {
        "id": "s1NR85DBd5St"
      },
      "execution_count": null,
      "outputs": []
    },
    {
      "cell_type": "code",
      "source": [
        "num_classes=len(train_df.target.value_counts())\n",
        "num_classes"
      ],
      "metadata": {
        "colab": {
          "base_uri": "https://localhost:8080/"
        },
        "id": "BJjyy1qmfWzs",
        "outputId": "25276ca5-550f-42b6-b7aa-0430bcf53c4e"
      },
      "execution_count": null,
      "outputs": [
        {
          "output_type": "execute_result",
          "data": {
            "text/plain": [
              "5"
            ]
          },
          "metadata": {},
          "execution_count": 48
        }
      ]
    },
    {
      "cell_type": "code",
      "source": [
        "input=layers.Input(shape=(1,),dtype=tf.string)\n",
        "word_vectors=word_vectorizer(input)\n",
        "word_embedd=word_embedding(word_vectors)\n",
        "x=layers.Conv1D(64,kernel_size=5,padding='same')(word_embedd)\n",
        "x=layers.GlobalAveragePooling1D()(x)\n",
        "output=layers.Dense(num_classes,activation='softmax')(x)\n",
        "model_1=tf.keras.Model(input,output)\n",
        "model_1.summary()"
      ],
      "metadata": {
        "colab": {
          "base_uri": "https://localhost:8080/"
        },
        "id": "wkla2Nz7cgAU",
        "outputId": "8a845bcb-a7b1-42ba-b385-04aa5975069c"
      },
      "execution_count": null,
      "outputs": [
        {
          "output_type": "stream",
          "name": "stdout",
          "text": [
            "Model: \"model\"\n",
            "_________________________________________________________________\n",
            " Layer (type)                Output Shape              Param #   \n",
            "=================================================================\n",
            " input_1 (InputLayer)        [(None, 1)]               0         \n",
            "                                                                 \n",
            " text_vectorization (TextVec  (None, 55)               0         \n",
            " torization)                                                     \n",
            "                                                                 \n",
            " word_embedding (Embedding)  (None, 55, 128)           8704000   \n",
            "                                                                 \n",
            " conv1d (Conv1D)             (None, 55, 64)            41024     \n",
            "                                                                 \n",
            " global_average_pooling1d (G  (None, 64)               0         \n",
            " lobalAveragePooling1D)                                          \n",
            "                                                                 \n",
            " dense (Dense)               (None, 5)                 325       \n",
            "                                                                 \n",
            "=================================================================\n",
            "Total params: 8,745,349\n",
            "Trainable params: 8,745,349\n",
            "Non-trainable params: 0\n",
            "_________________________________________________________________\n"
          ]
        }
      ]
    },
    {
      "cell_type": "code",
      "source": [
        "model_1.compile(\n",
        "    loss='categorical_crossentropy',\n",
        "    optimizer='adam',\n",
        "    metrics=['accuracy']\n",
        ")"
      ],
      "metadata": {
        "id": "qb3Ss-7wfuDA"
      },
      "execution_count": null,
      "outputs": []
    },
    {
      "cell_type": "code",
      "source": [
        "model_1.fit(train_dataset,\n",
        "            epochs=3,\n",
        "            validation_data=val_dataset)"
      ],
      "metadata": {
        "colab": {
          "base_uri": "https://localhost:8080/"
        },
        "id": "SbDPpCYSgqfO",
        "outputId": "9a50887d-bb20-471b-8a21-6065913f21e0"
      },
      "execution_count": null,
      "outputs": [
        {
          "output_type": "stream",
          "name": "stdout",
          "text": [
            "Epoch 1/3\n",
            "5627/5627 [==============================] - 58s 9ms/step - loss: 0.6164 - accuracy: 0.7737 - val_loss: 0.5577 - val_accuracy: 0.7957\n",
            "Epoch 2/3\n",
            "5627/5627 [==============================] - 51s 9ms/step - loss: 0.4633 - accuracy: 0.8365 - val_loss: 0.5745 - val_accuracy: 0.7924\n",
            "Epoch 3/3\n",
            "5627/5627 [==============================] - 50s 9ms/step - loss: 0.3831 - accuracy: 0.8682 - val_loss: 0.6437 - val_accuracy: 0.7802\n"
          ]
        },
        {
          "output_type": "execute_result",
          "data": {
            "text/plain": [
              "<keras.callbacks.History at 0x7f5d3039c3d0>"
            ]
          },
          "metadata": {},
          "execution_count": 51
        }
      ]
    },
    {
      "cell_type": "code",
      "source": [
        "model_1_pred_probs=model_1.predict(val_dataset)"
      ],
      "metadata": {
        "colab": {
          "base_uri": "https://localhost:8080/"
        },
        "id": "e9Kfd-YAguiR",
        "outputId": "a50715ed-2e32-4c70-a590-e8c174c0c79f"
      },
      "execution_count": null,
      "outputs": [
        {
          "output_type": "stream",
          "name": "stdout",
          "text": [
            "945/945 [==============================] - 2s 2ms/step\n"
          ]
        }
      ]
    },
    {
      "cell_type": "code",
      "source": [
        "model_1_preds=tf.argmax(model_1_pred_probs,axis=-1)"
      ],
      "metadata": {
        "id": "XY0r-lSfhC-E"
      },
      "execution_count": null,
      "outputs": []
    },
    {
      "cell_type": "code",
      "source": [
        "model_1_preds"
      ],
      "metadata": {
        "colab": {
          "base_uri": "https://localhost:8080/"
        },
        "id": "QkTxYs4CixT6",
        "outputId": "adf775e0-b2b3-4f11-f33b-9b4bbcc313be"
      },
      "execution_count": null,
      "outputs": [
        {
          "output_type": "execute_result",
          "data": {
            "text/plain": [
              "<tf.Tensor: shape=(30212,), dtype=int64, numpy=array([2, 0, 3, ..., 4, 1, 1])>"
            ]
          },
          "metadata": {},
          "execution_count": 54
        }
      ]
    },
    {
      "cell_type": "code",
      "source": [
        "model_1_results=evaluate_model(y_true=val_label_encoded,\n",
        "                               y_preds=model_1_preds)\n",
        "model_1_results"
      ],
      "metadata": {
        "colab": {
          "base_uri": "https://localhost:8080/"
        },
        "id": "3uqTcT0Gigb2",
        "outputId": "b9835b79-d43b-4c66-8531-a84f8087d68f"
      },
      "execution_count": null,
      "outputs": [
        {
          "output_type": "execute_result",
          "data": {
            "text/plain": [
              "{'accuracy': 0.7801535813584006,\n",
              " 'recall': 0.7801535813584006,\n",
              " 'precision': 0.787795649074372,\n",
              " 'f1-score': 0.7769818034805567}"
            ]
          },
          "metadata": {},
          "execution_count": 55
        }
      ]
    },
    {
      "cell_type": "code",
      "source": [
        "baseline_results"
      ],
      "metadata": {
        "colab": {
          "base_uri": "https://localhost:8080/"
        },
        "id": "1wUWeaWeiulo",
        "outputId": "127dbfac-2fb2-4fd8-bf30-7faeab382c4e"
      },
      "execution_count": null,
      "outputs": [
        {
          "output_type": "execute_result",
          "data": {
            "text/plain": [
              "{'accuracy': 0.7218323844829869,\n",
              " 'recall': 0.7218323844829869,\n",
              " 'precision': 0.7186466952323352,\n",
              " 'f1-score': 0.6989250353450294}"
            ]
          },
          "metadata": {},
          "execution_count": 56
        }
      ]
    },
    {
      "cell_type": "markdown",
      "source": [
        "## **Model 2 : Feature Extraction and Use a pre-trained Embeddings**"
      ],
      "metadata": {
        "id": "oCc9SsjucYBH"
      }
    },
    {
      "cell_type": "markdown",
      "source": [
        "* Here we will use pre-train embeddding mainly universal-sentence-encoder i.e.  https://tfhub.dev/google/universal-sentence-encoder/4"
      ],
      "metadata": {
        "id": "b3hpPfAefaYf"
      }
    },
    {
      "cell_type": "code",
      "source": [
        "import tensorflow_hub as hub\n",
        "\n",
        "word_embedding_layer = hub.KerasLayer('https://tfhub.dev/google/universal-sentence-encoder/4',\n",
        "                                      trainable=False,\n",
        "                                      name='use')\n",
        "\n"
      ],
      "metadata": {
        "id": "7KRWPh_Ci6MC"
      },
      "execution_count": null,
      "outputs": []
    },
    {
      "cell_type": "code",
      "source": [
        "import random\n",
        "random_sentence= random.choice(train_sentences)\n"
      ],
      "metadata": {
        "id": "HYY63SuDgnxx"
      },
      "execution_count": null,
      "outputs": []
    },
    {
      "cell_type": "code",
      "source": [
        "word_embedding_layer([random_sentence])"
      ],
      "metadata": {
        "colab": {
          "base_uri": "https://localhost:8080/"
        },
        "id": "0i32adPjgwM1",
        "outputId": "5c1aa8ee-63f7-40d1-a481-011740fe6033"
      },
      "execution_count": null,
      "outputs": [
        {
          "output_type": "execute_result",
          "data": {
            "text/plain": [
              "<tf.Tensor: shape=(1, 512), dtype=float32, numpy=\n",
              "array([[-0.02469692, -0.01095165, -0.04539029, -0.00337467,  0.04229902,\n",
              "        -0.07152732, -0.03798855, -0.03801079, -0.04658166,  0.00946737,\n",
              "         0.07070383, -0.00191128, -0.02816747,  0.06234115,  0.06850612,\n",
              "        -0.03758523, -0.07199261, -0.02410556,  0.02687005, -0.00273011,\n",
              "         0.05522504, -0.05954097,  0.0052061 ,  0.01557598,  0.0703359 ,\n",
              "        -0.00910727,  0.05829281,  0.05905511, -0.06132878, -0.02004624,\n",
              "         0.06705625,  0.07397497, -0.01200948, -0.02598673, -0.02661971,\n",
              "         0.0484868 ,  0.01528308, -0.06038578, -0.01669799, -0.05082616,\n",
              "        -0.00716661,  0.06273846, -0.05579897,  0.04834769,  0.03869727,\n",
              "        -0.0020662 ,  0.04070664, -0.01692963, -0.04703911,  0.07114146,\n",
              "        -0.0614703 , -0.05271598, -0.06716239, -0.07138823,  0.01145607,\n",
              "         0.01731065, -0.06820242, -0.02507267, -0.05921295,  0.02638228,\n",
              "        -0.05234558, -0.03462336,  0.01399756, -0.02389613,  0.01986659,\n",
              "         0.00660316, -0.05265056,  0.06502174,  0.03485768, -0.06553169,\n",
              "        -0.05035521, -0.05416552,  0.00623818, -0.05608916, -0.04743475,\n",
              "        -0.00111126,  0.01346873,  0.00581196, -0.07301766,  0.00010288,\n",
              "         0.0606873 ,  0.01585089,  0.04761997,  0.0428172 , -0.03564884,\n",
              "         0.07189292,  0.01697079, -0.07081448,  0.0383929 ,  0.00078794,\n",
              "        -0.02357586, -0.02195015, -0.06860722,  0.03148614,  0.06864283,\n",
              "         0.03165383, -0.01868641, -0.02542922, -0.0374173 , -0.03356836,\n",
              "         0.06759156,  0.03479838,  0.06127439, -0.05487902,  0.06772355,\n",
              "         0.03615149,  0.05137237,  0.05633398, -0.01474667, -0.02346628,\n",
              "         0.00855408,  0.06014301,  0.07626098,  0.01208996, -0.01809097,\n",
              "        -0.01485676, -0.02538911,  0.02230142,  0.04635156, -0.04026457,\n",
              "        -0.03707331,  0.03294514,  0.06803215,  0.05743772,  0.05059032,\n",
              "         0.07253075, -0.01147752, -0.07479996, -0.00296933, -0.07346148,\n",
              "        -0.04937794,  0.06966276,  0.06640768,  0.00768908, -0.03765681,\n",
              "        -0.00212705,  0.06930286,  0.05507351,  0.01571581, -0.04928776,\n",
              "         0.06367894,  0.07687514, -0.05748754,  0.02487371, -0.00477328,\n",
              "        -0.00964066,  0.04188332,  0.01269654,  0.03158958, -0.0588111 ,\n",
              "         0.02794728, -0.05704627, -0.00354272,  0.0092328 ,  0.0698936 ,\n",
              "         0.03972131, -0.04941294,  0.00989   , -0.02198973,  0.00449911,\n",
              "         0.04734501,  0.00358506, -0.0727975 , -0.05849673,  0.0228485 ,\n",
              "         0.02189775, -0.04647307,  0.00231344, -0.03268635,  0.06096447,\n",
              "        -0.06247307,  0.01384434, -0.02704674,  0.00498222, -0.0421747 ,\n",
              "         0.03886551,  0.05990341,  0.06945688,  0.02686424,  0.0588182 ,\n",
              "        -0.05448341, -0.05782694, -0.00709447,  0.04910295, -0.06303521,\n",
              "        -0.01642822,  0.07003863,  0.04777918, -0.04676295, -0.01797752,\n",
              "         0.05358056, -0.01799189,  0.02496195,  0.02448884,  0.02222765,\n",
              "        -0.03393192, -0.03977441, -0.06070105,  0.0595798 ,  0.00404446,\n",
              "         0.02901028,  0.02995099,  0.07015762,  0.06357249,  0.030744  ,\n",
              "         0.00351443,  0.0653247 , -0.07519279,  0.01913385, -0.02652846,\n",
              "         0.0140204 , -0.02105194, -0.02801628,  0.06574542, -0.06991537,\n",
              "        -0.00865622,  0.03760325,  0.03600096, -0.03503129, -0.01191716,\n",
              "        -0.02452728, -0.0259472 ,  0.05715733, -0.00157356,  0.03709757,\n",
              "         0.06676327,  0.0251901 , -0.0306634 , -0.04274305, -0.04433642,\n",
              "         0.07470877,  0.07332411,  0.0373584 , -0.02166333,  0.04800562,\n",
              "         0.02416454,  0.01412629, -0.0277767 ,  0.00147131,  0.04045231,\n",
              "         0.03335674,  0.01544659, -0.05282229,  0.00569663, -0.07504765,\n",
              "         0.02837143, -0.05119597,  0.02077796, -0.03615408, -0.05394615,\n",
              "        -0.0473238 ,  0.06088351, -0.01260143, -0.00888522, -0.03581255,\n",
              "         0.02112065, -0.01840208,  0.07192205,  0.04409114,  0.04321653,\n",
              "        -0.02389118,  0.02992973,  0.06839895,  0.02752922,  0.01845567,\n",
              "         0.05418887,  0.00722467,  0.00350831, -0.03853656,  0.01461318,\n",
              "        -0.01184728,  0.05507811,  0.05731133, -0.05590492,  0.03535312,\n",
              "         0.00944224,  0.01530644, -0.07715157, -0.04931754, -0.06497423,\n",
              "        -0.07081494, -0.03298002, -0.00510518,  0.03165573,  0.01634979,\n",
              "        -0.05252093,  0.03177435,  0.02605928, -0.03094964, -0.02632928,\n",
              "        -0.01928799, -0.05730164, -0.04653336, -0.03007089, -0.02961907,\n",
              "         0.02131975, -0.05843982, -0.05130707,  0.05668592,  0.01198684,\n",
              "         0.00879941, -0.03752111,  0.05292616, -0.05484519, -0.05627937,\n",
              "        -0.05074985,  0.07623272, -0.04592766, -0.00056643, -0.01116167,\n",
              "        -0.03061005, -0.05706291,  0.06695889, -0.00093913,  0.02515926,\n",
              "         0.03332295, -0.04622962, -0.04880371,  0.02324412, -0.06510686,\n",
              "        -0.02256075, -0.04876023,  0.05103206, -0.05424379,  0.05348762,\n",
              "         0.01897675,  0.06316141, -0.00702698, -0.00450139, -0.07462823,\n",
              "        -0.00222527, -0.01383305, -0.01975203,  0.05331983,  0.0039052 ,\n",
              "         0.03267455,  0.03443205, -0.05471268,  0.00324912, -0.01757555,\n",
              "        -0.06936681,  0.03111977, -0.06806074,  0.06859717, -0.02830071,\n",
              "         0.01438636,  0.0598183 , -0.04485426,  0.03249714, -0.05159076,\n",
              "        -0.03368887,  0.00319089,  0.01734538,  0.02169078,  0.02348478,\n",
              "         0.04830832, -0.06143559, -0.00339988,  0.00096414, -0.05643233,\n",
              "         0.02770448,  0.07399288,  0.02382626, -0.06557064,  0.07638188,\n",
              "         0.0081972 ,  0.0585234 , -0.03693641, -0.03275333,  0.04327225,\n",
              "         0.05736008,  0.05343948, -0.00345706, -0.06781176,  0.06696787,\n",
              "        -0.00469277,  0.06482693, -0.05736595,  0.01602728, -0.05919711,\n",
              "        -0.06674334, -0.06897267, -0.03196963,  0.01261661,  0.04637197,\n",
              "        -0.0667835 , -0.00045699,  0.00720702,  0.06024266,  0.0124829 ,\n",
              "        -0.05862589,  0.01177477, -0.04836714,  0.04964452, -0.0115147 ,\n",
              "         0.03533558,  0.00533774, -0.05751319, -0.02009294,  0.00061165,\n",
              "         0.04097323,  0.0117028 ,  0.01627477, -0.06572097, -0.00867222,\n",
              "        -0.06118061,  0.0323658 , -0.00432348,  0.06681484,  0.01476093,\n",
              "        -0.06982731,  0.0345156 ,  0.01966839, -0.04875617, -0.06404626,\n",
              "        -0.0317727 , -0.04277095, -0.07332287, -0.00394731,  0.06077997,\n",
              "         0.03181976,  0.04165897,  0.02699823, -0.03993956, -0.04411277,\n",
              "        -0.02637488, -0.02668269, -0.06592485, -0.00981438,  0.04459771,\n",
              "        -0.06518745, -0.0370807 , -0.06392321,  0.05520727,  0.03258041,\n",
              "        -0.04712784,  0.01089372,  0.02914728, -0.03547262,  0.06734703,\n",
              "         0.03856134,  0.00213493, -0.05488314,  0.0642494 ,  0.00318073,\n",
              "         0.04720727, -0.06166774,  0.05392417, -0.03442746,  0.05367666,\n",
              "         0.05918541, -0.02635448,  0.06335626, -0.03093788, -0.02901052,\n",
              "        -0.00327683, -0.04534577,  0.04936676, -0.0135899 ,  0.06482905,\n",
              "         0.07022357,  0.05534869, -0.00308399, -0.0407641 , -0.06472165,\n",
              "         0.04482419, -0.04344174,  0.03792082, -0.04642658, -0.03976662,\n",
              "         0.06874433, -0.00565009, -0.03139645,  0.02613704,  0.03261152,\n",
              "         0.05062161,  0.07369062,  0.02758848,  0.00879955,  0.06522097,\n",
              "        -0.02113974,  0.03625395, -0.07287645, -0.01227523, -0.04414222,\n",
              "        -0.00700147, -0.0467692 , -0.06604361,  0.03515196, -0.05999233,\n",
              "         0.00126874,  0.04999692, -0.02322679, -0.0727452 ,  0.00684104,\n",
              "         0.03520228, -0.04297501, -0.0349657 , -0.04256567, -0.01415676,\n",
              "         0.05644127,  0.06478259, -0.07167307, -0.0724233 , -0.03768985,\n",
              "        -0.07158588, -0.00227323, -0.0106707 , -0.02569594, -0.02374261,\n",
              "        -0.06584857, -0.04781633]], dtype=float32)>"
            ]
          },
          "metadata": {},
          "execution_count": 59
        }
      ]
    },
    {
      "cell_type": "code",
      "source": [
        "input=layers.Input(shape=[],dtype=tf.string)\n",
        "\n",
        "word_embedd=word_embedding_layer(input)\n",
        "x=layers.Dense(128,activation='relu')(word_embedd)\n",
        "output=layers.Dense(num_classes,activation='softmax')(x)\n",
        "model_2=tf.keras.Model(input,output)\n",
        "model_2.summary()\n"
      ],
      "metadata": {
        "colab": {
          "base_uri": "https://localhost:8080/"
        },
        "id": "FjP36vwTgz_8",
        "outputId": "43bd9498-94f2-4abb-83af-37436a4deb25"
      },
      "execution_count": null,
      "outputs": [
        {
          "output_type": "stream",
          "name": "stdout",
          "text": [
            "Model: \"model_1\"\n",
            "_________________________________________________________________\n",
            " Layer (type)                Output Shape              Param #   \n",
            "=================================================================\n",
            " input_2 (InputLayer)        [(None,)]                 0         \n",
            "                                                                 \n",
            " use (KerasLayer)            (None, 512)               256797824 \n",
            "                                                                 \n",
            " dense_1 (Dense)             (None, 128)               65664     \n",
            "                                                                 \n",
            " dense_2 (Dense)             (None, 5)                 645       \n",
            "                                                                 \n",
            "=================================================================\n",
            "Total params: 256,864,133\n",
            "Trainable params: 66,309\n",
            "Non-trainable params: 256,797,824\n",
            "_________________________________________________________________\n"
          ]
        }
      ]
    },
    {
      "cell_type": "code",
      "source": [
        "model_2.compile(loss='categorical_crossentropy',\n",
        "                optimizer='adam',\n",
        "                metrics=['accuracy'])"
      ],
      "metadata": {
        "id": "LJ0WlEp-ies4"
      },
      "execution_count": null,
      "outputs": []
    },
    {
      "cell_type": "code",
      "source": [
        "model_2.fit(train_dataset,\n",
        "            epochs=3,\n",
        "            validation_data=val_dataset)"
      ],
      "metadata": {
        "colab": {
          "base_uri": "https://localhost:8080/"
        },
        "id": "64YoZreWkogV",
        "outputId": "4c107e57-0e4a-40a5-fa64-07d18f884b72"
      },
      "execution_count": null,
      "outputs": [
        {
          "output_type": "stream",
          "name": "stdout",
          "text": [
            "Epoch 1/3\n",
            "5627/5627 [==============================] - 73s 13ms/step - loss: 0.7308 - accuracy: 0.7207 - val_loss: 0.6585 - val_accuracy: 0.7489\n",
            "Epoch 2/3\n",
            "5627/5627 [==============================] - 71s 13ms/step - loss: 0.6374 - accuracy: 0.7580 - val_loss: 0.6212 - val_accuracy: 0.7630\n",
            "Epoch 3/3\n",
            "5627/5627 [==============================] - 70s 12ms/step - loss: 0.6024 - accuracy: 0.7717 - val_loss: 0.6062 - val_accuracy: 0.7688\n"
          ]
        },
        {
          "output_type": "execute_result",
          "data": {
            "text/plain": [
              "<keras.callbacks.History at 0x7f5cbc2ca1c0>"
            ]
          },
          "metadata": {},
          "execution_count": 62
        }
      ]
    },
    {
      "cell_type": "code",
      "source": [
        "model_2_pred_probs=model_2.predict(val_dataset)"
      ],
      "metadata": {
        "colab": {
          "base_uri": "https://localhost:8080/"
        },
        "id": "IpYRd8I7kzGj",
        "outputId": "7896498e-ece7-4a4a-ebee-f753f9ff885a"
      },
      "execution_count": null,
      "outputs": [
        {
          "output_type": "stream",
          "name": "stdout",
          "text": [
            "945/945 [==============================] - 10s 10ms/step\n"
          ]
        }
      ]
    },
    {
      "cell_type": "code",
      "source": [
        "model_2_preds=tf.argmax(model_2_pred_probs,axis=1)\n",
        "model_2_preds"
      ],
      "metadata": {
        "colab": {
          "base_uri": "https://localhost:8080/"
        },
        "id": "gJOB4VLOl4Dx",
        "outputId": "96fa57d3-0091-49ef-d20b-c28e05d916b7"
      },
      "execution_count": null,
      "outputs": [
        {
          "output_type": "execute_result",
          "data": {
            "text/plain": [
              "<tf.Tensor: shape=(30212,), dtype=int64, numpy=array([0, 1, 0, ..., 4, 4, 1])>"
            ]
          },
          "metadata": {},
          "execution_count": 64
        }
      ]
    },
    {
      "cell_type": "code",
      "source": [
        "model_2_results=evaluate_model(y_true=val_label_encoded,\n",
        "                               y_preds=model_2_preds)\n",
        "model_2_results"
      ],
      "metadata": {
        "colab": {
          "base_uri": "https://localhost:8080/"
        },
        "id": "FQECxjYUmAQ3",
        "outputId": "7b1b376a-43dd-4b5a-ecce-e5c4d4bf7517"
      },
      "execution_count": null,
      "outputs": [
        {
          "output_type": "execute_result",
          "data": {
            "text/plain": [
              "{'accuracy': 0.7687673772011121,\n",
              " 'recall': 0.7687673772011121,\n",
              " 'precision': 0.7663172959953093,\n",
              " 'f1-score': 0.7644745053255267}"
            ]
          },
          "metadata": {},
          "execution_count": 65
        }
      ]
    },
    {
      "cell_type": "code",
      "source": [
        "baseline_results"
      ],
      "metadata": {
        "colab": {
          "base_uri": "https://localhost:8080/"
        },
        "id": "kGYlvP0rmTP9",
        "outputId": "5695ad62-bfa5-4d9f-de73-a6183ab40a99"
      },
      "execution_count": null,
      "outputs": [
        {
          "output_type": "execute_result",
          "data": {
            "text/plain": [
              "{'accuracy': 0.7218323844829869,\n",
              " 'recall': 0.7218323844829869,\n",
              " 'precision': 0.7186466952323352,\n",
              " 'f1-score': 0.6989250353450294}"
            ]
          },
          "metadata": {},
          "execution_count": 66
        }
      ]
    },
    {
      "cell_type": "markdown",
      "source": [
        "## **Model 3 : Conv1D with character Encoding**"
      ],
      "metadata": {
        "id": "Si9to3gSp7Ng"
      }
    },
    {
      "cell_type": "markdown",
      "source": [
        "### **character Embedding**\n",
        "\n",
        "making tokens of character..."
      ],
      "metadata": {
        "id": "11hEBOaQqEBe"
      }
    },
    {
      "cell_type": "code",
      "source": [
        "train_sentences[:2]"
      ],
      "metadata": {
        "colab": {
          "base_uri": "https://localhost:8080/"
        },
        "id": "2V4DIIxHmXy3",
        "outputId": "3237874a-99ea-4e06-d8f4-c4cbcc00107e"
      },
      "execution_count": null,
      "outputs": [
        {
          "output_type": "execute_result",
          "data": {
            "text/plain": [
              "0    to investigate the efficacy of @ weeks of dail...\n",
              "1    a total of @ patients with primary knee oa wer...\n",
              "Name: text, dtype: object"
            ]
          },
          "metadata": {},
          "execution_count": 67
        }
      ]
    },
    {
      "cell_type": "code",
      "source": [
        "def get_chars(lines):\n",
        "  '''\n",
        "    takes sentneces and convert it into character level ...\n",
        "  '''\n",
        "  return ' '.join(list(lines))"
      ],
      "metadata": {
        "id": "wneOsQpQqX0P"
      },
      "execution_count": null,
      "outputs": []
    },
    {
      "cell_type": "code",
      "source": [
        "get_chars(train_sentences[0])"
      ],
      "metadata": {
        "colab": {
          "base_uri": "https://localhost:8080/",
          "height": 122
        },
        "id": "xsQevE7Tq4J_",
        "outputId": "df9e8c3c-222a-4f86-91fe-fc81d6950a28"
      },
      "execution_count": null,
      "outputs": [
        {
          "output_type": "execute_result",
          "data": {
            "text/plain": [
              "'t o   i n v e s t i g a t e   t h e   e f f i c a c y   o f   @   w e e k s   o f   d a i l y   l o w - d o s e   o r a l   p r e d n i s o l o n e   i n   i m p r o v i n g   p a i n   ,   m o b i l i t y   ,   a n d   s y s t e m i c   l o w - g r a d e   i n f l a m m a t i o n   i n   t h e   s h o r t   t e r m   a n d   w h e t h e r   t h e   e f f e c t   w o u l d   b e   s u s t a i n e d   a t   @   w e e k s   i n   o l d e r   a d u l t s   w i t h   m o d e r a t e   t o   s e v e r e   k n e e   o s t e o a r t h r i t i s   (   o a   )   .'"
            ],
            "application/vnd.google.colaboratory.intrinsic+json": {
              "type": "string"
            }
          },
          "metadata": {},
          "execution_count": 69
        }
      ]
    },
    {
      "cell_type": "code",
      "source": [
        "train_chars=[get_chars(line) for line in train_sentences]\n",
        "test_chars=[get_chars(line) for line in test_sentences]\n",
        "val_chars=[get_chars(line) for line in val_sentences]"
      ],
      "metadata": {
        "id": "KsOeKdWPq_PA"
      },
      "execution_count": null,
      "outputs": []
    },
    {
      "cell_type": "code",
      "source": [
        "train_sentences.map(len).hist()"
      ],
      "metadata": {
        "colab": {
          "base_uri": "https://localhost:8080/",
          "height": 282
        },
        "id": "FenaynVTr3Nq",
        "outputId": "b5d51a90-27d8-4cfc-d0a8-78ab1594aecc"
      },
      "execution_count": null,
      "outputs": [
        {
          "output_type": "execute_result",
          "data": {
            "text/plain": [
              "<matplotlib.axes._subplots.AxesSubplot at 0x7f5bf92f80a0>"
            ]
          },
          "metadata": {},
          "execution_count": 71
        },
        {
          "output_type": "display_data",
          "data": {
            "text/plain": [
              "<Figure size 432x288 with 1 Axes>"
            ],
            "image/png": "[encoded data removed]"
          },
          "metadata": {
            "needs_background": "light"
          }
        }
      ]
    },
    {
      "cell_type": "code",
      "source": [
        "import string"
      ],
      "metadata": {
        "id": "hP0TTTyXLBd6"
      },
      "execution_count": null,
      "outputs": []
    },
    {
      "cell_type": "code",
      "source": [
        "chars= string.ascii_lowercase + string.punctuation\n",
        "chars,len(chars)"
      ],
      "metadata": {
        "colab": {
          "base_uri": "https://localhost:8080/"
        },
        "id": "fUsa7frIuVph",
        "outputId": "a3161950-bd7c-4d6d-c04e-cec510c33492"
      },
      "execution_count": null,
      "outputs": [
        {
          "output_type": "execute_result",
          "data": {
            "text/plain": [
              "('abcdefghijklmnopqrstuvwxyz!\"#$%&\\'()*+,-./:;<=>?@[\\\\]^_`{|}~', 58)"
            ]
          },
          "metadata": {},
          "execution_count": 33
        }
      ]
    },
    {
      "cell_type": "code",
      "source": [
        "\n",
        "\n",
        "chars= string.ascii_lowercase + string.punctuation\n",
        "\n",
        "TOKEN_NUMS = len(chars)\n",
        "output_seq_len=int(np.percentile(train_sentences.map(len),95))\n",
        "\n",
        "char_vectorizer=TextVectorization(max_tokens=TOKEN_NUMS,\n",
        "                                  output_sequence_length=output_seq_len,\n",
        "                                  standardize=None)"
      ],
      "metadata": {
        "id": "wCzSW2C2uska"
      },
      "execution_count": null,
      "outputs": []
    },
    {
      "cell_type": "code",
      "source": [
        "char_vectorizer.adapt(train_chars)"
      ],
      "metadata": {
        "id": "qmb7Ew45wGvu"
      },
      "execution_count": null,
      "outputs": []
    },
    {
      "cell_type": "code",
      "source": [
        "char_vectorizer(get_chars(val_sentences[0]))"
      ],
      "metadata": {
        "colab": {
          "base_uri": "https://localhost:8080/"
        },
        "id": "hhFI9ZUyvovb",
        "outputId": "797139c5-21fc-4e68-e615-b001d3ba78b3"
      },
      "execution_count": null,
      "outputs": [
        {
          "output_type": "execute_result",
          "data": {
            "text/plain": [
              "<tf.Tensor: shape=(290,), dtype=int64, numpy=\n",
              "array([ 4, 18,  2,  9,  2,  6,  9,  4,  3,  4, 32,  5,  3,  4,  7,  6,  3,\n",
              "        7,  5,  9, 14,  2,  8, 18,  4, 12, 12, 16,  9, 17, 16, 15,  4, 18,\n",
              "        5,  3, 16,  9,  5,  6, 10,  5, 14,  7,  9,  4,  3,  4, 22,  2,  9,\n",
              "       14, 16,  3, 16, 15, 17, 16,  6, 18,  5, 12, 11, 16, 12,  3, 16,  8,\n",
              "        2,  8,  2,  9, 16, 12,  3,  5,  8,  2, 11,  7, 15, 15,  7,  6,  4,\n",
              "        6, 14,  5,  3,  4,  2,  6,  3,  9, 21,  4,  3, 13,  8,  2, 17,  8,\n",
              "        5, 11,  3,  7,  8, 20,  5,  9,  3, 13, 15,  5, 25,  0,  0,  0,  0,\n",
              "        0,  0,  0,  0,  0,  0,  0,  0,  0,  0,  0,  0,  0,  0,  0,  0,  0,\n",
              "        0,  0,  0,  0,  0,  0,  0,  0,  0,  0,  0,  0,  0,  0,  0,  0,  0,\n",
              "        0,  0,  0,  0,  0,  0,  0,  0,  0,  0,  0,  0,  0,  0,  0,  0,  0,\n",
              "        0,  0,  0,  0,  0,  0,  0,  0,  0,  0,  0,  0,  0,  0,  0,  0,  0,\n",
              "        0,  0,  0,  0,  0,  0,  0,  0,  0,  0,  0,  0,  0,  0,  0,  0,  0,\n",
              "        0,  0,  0,  0,  0,  0,  0,  0,  0,  0,  0,  0,  0,  0,  0,  0,  0,\n",
              "        0,  0,  0,  0,  0,  0,  0,  0,  0,  0,  0,  0,  0,  0,  0,  0,  0,\n",
              "        0,  0,  0,  0,  0,  0,  0,  0,  0,  0,  0,  0,  0,  0,  0,  0,  0,\n",
              "        0,  0,  0,  0,  0,  0,  0,  0,  0,  0,  0,  0,  0,  0,  0,  0,  0,\n",
              "        0,  0,  0,  0,  0,  0,  0,  0,  0,  0,  0,  0,  0,  0,  0,  0,  0,\n",
              "        0])>"
            ]
          },
          "metadata": {},
          "execution_count": 77
        }
      ]
    },
    {
      "cell_type": "code",
      "source": [
        "char_vocab=char_vectorizer.get_vocabulary()"
      ],
      "metadata": {
        "id": "ucArMkXTv4xi"
      },
      "execution_count": null,
      "outputs": []
    },
    {
      "cell_type": "code",
      "source": [
        "char_vocab[:5],char_vocab[-5:]"
      ],
      "metadata": {
        "colab": {
          "base_uri": "https://localhost:8080/"
        },
        "id": "2cp0carBw3Y7",
        "outputId": "4d14476b-1003-433d-b6e6-e5876b51c289"
      },
      "execution_count": null,
      "outputs": [
        {
          "output_type": "execute_result",
          "data": {
            "text/plain": [
              "(['', '[UNK]', 'e', 't', 'i'], ['|', '\"', ']', '\\\\', '['])"
            ]
          },
          "metadata": {},
          "execution_count": 79
        }
      ]
    },
    {
      "cell_type": "code",
      "source": [
        "char_vocab"
      ],
      "metadata": {
        "id": "XBVrH4llxKXq",
        "colab": {
          "base_uri": "https://localhost:8080/"
        },
        "outputId": "961aca94-b282-4251-c364-4519bb96e8b5"
      },
      "execution_count": null,
      "outputs": [
        {
          "output_type": "execute_result",
          "data": {
            "text/plain": [
              "['',\n",
              " '[UNK]',\n",
              " 'e',\n",
              " 't',\n",
              " 'i',\n",
              " 'a',\n",
              " 'n',\n",
              " 'o',\n",
              " 'r',\n",
              " 's',\n",
              " 'd',\n",
              " 'c',\n",
              " 'l',\n",
              " 'h',\n",
              " 'p',\n",
              " 'm',\n",
              " 'u',\n",
              " 'f',\n",
              " 'g',\n",
              " '@',\n",
              " 'y',\n",
              " 'w',\n",
              " 'v',\n",
              " 'b',\n",
              " ',',\n",
              " '.',\n",
              " '-',\n",
              " ')',\n",
              " '(',\n",
              " 'k',\n",
              " 'x',\n",
              " '%',\n",
              " 'z',\n",
              " '=',\n",
              " 'q',\n",
              " '/',\n",
              " ';',\n",
              " 'j',\n",
              " ':',\n",
              " '<',\n",
              " \"'\",\n",
              " '+',\n",
              " '`',\n",
              " '>',\n",
              " '$',\n",
              " '&',\n",
              " '*',\n",
              " '~',\n",
              " '?',\n",
              " '#',\n",
              " '_',\n",
              " '!',\n",
              " '|',\n",
              " '\"',\n",
              " ']',\n",
              " '\\\\',\n",
              " '[']"
            ]
          },
          "metadata": {},
          "execution_count": 80
        }
      ]
    },
    {
      "cell_type": "code",
      "source": [
        "char_vectorizer(train_chars[395])"
      ],
      "metadata": {
        "colab": {
          "base_uri": "https://localhost:8080/"
        },
        "id": "Lx4V_BYsxtdw",
        "outputId": "cc37f7ae-ed50-4366-c337-632a07dac756"
      },
      "execution_count": null,
      "outputs": [
        {
          "output_type": "execute_result",
          "data": {
            "text/plain": [
              "<tf.Tensor: shape=(290,), dtype=int64, numpy=\n",
              "array([11,  7,  6,  3,  5, 15,  4,  6,  5,  3,  4,  7,  6, 11, 13,  5,  6,\n",
              "       18,  2, 10,  9,  4, 18,  6,  4, 17,  4, 11,  5,  6,  3, 12, 20,  7,\n",
              "       22,  2,  8,  3,  4, 15,  2,  4,  6, 11, 13,  5,  6, 10, 21,  5, 30,\n",
              "       21,  4,  3, 13,  7, 16,  3,  9,  4, 18,  6,  4, 17,  4, 11,  5,  6,\n",
              "        3, 10,  4, 17, 17,  2,  8,  2,  6, 11,  2, 23,  2,  3, 21,  2,  2,\n",
              "        6, 18,  8,  7, 16, 14,  9, 25,  0,  0,  0,  0,  0,  0,  0,  0,  0,\n",
              "        0,  0,  0,  0,  0,  0,  0,  0,  0,  0,  0,  0,  0,  0,  0,  0,  0,\n",
              "        0,  0,  0,  0,  0,  0,  0,  0,  0,  0,  0,  0,  0,  0,  0,  0,  0,\n",
              "        0,  0,  0,  0,  0,  0,  0,  0,  0,  0,  0,  0,  0,  0,  0,  0,  0,\n",
              "        0,  0,  0,  0,  0,  0,  0,  0,  0,  0,  0,  0,  0,  0,  0,  0,  0,\n",
              "        0,  0,  0,  0,  0,  0,  0,  0,  0,  0,  0,  0,  0,  0,  0,  0,  0,\n",
              "        0,  0,  0,  0,  0,  0,  0,  0,  0,  0,  0,  0,  0,  0,  0,  0,  0,\n",
              "        0,  0,  0,  0,  0,  0,  0,  0,  0,  0,  0,  0,  0,  0,  0,  0,  0,\n",
              "        0,  0,  0,  0,  0,  0,  0,  0,  0,  0,  0,  0,  0,  0,  0,  0,  0,\n",
              "        0,  0,  0,  0,  0,  0,  0,  0,  0,  0,  0,  0,  0,  0,  0,  0,  0,\n",
              "        0,  0,  0,  0,  0,  0,  0,  0,  0,  0,  0,  0,  0,  0,  0,  0,  0,\n",
              "        0,  0,  0,  0,  0,  0,  0,  0,  0,  0,  0,  0,  0,  0,  0,  0,  0,\n",
              "        0])>"
            ]
          },
          "metadata": {},
          "execution_count": 81
        }
      ]
    },
    {
      "cell_type": "markdown",
      "source": [
        "**Char Encoder**"
      ],
      "metadata": {
        "id": "2Oyz5CSi6O8H"
      }
    },
    {
      "cell_type": "code",
      "source": [
        "char_embedding=layers.Embedding(input_dim=TOKEN_NUMS,\n",
        "                               output_dim=25,\n",
        "                               mask_zero=True,\n",
        "                               name='char_embedding')"
      ],
      "metadata": {
        "id": "Ru__TEG0x6He"
      },
      "execution_count": null,
      "outputs": []
    },
    {
      "cell_type": "code",
      "source": [
        "random_sentence=random.choice(train_sentences)"
      ],
      "metadata": {
        "id": "OQNddP7_66nU"
      },
      "execution_count": null,
      "outputs": []
    },
    {
      "cell_type": "code",
      "source": [
        "char_embedding(char_vectorizer([random_sentence]))"
      ],
      "metadata": {
        "colab": {
          "base_uri": "https://localhost:8080/"
        },
        "id": "XVyAotMW6kKa",
        "outputId": "66c1fe28-743a-4d91-dd62-76c1ad984a08"
      },
      "execution_count": null,
      "outputs": [
        {
          "output_type": "execute_result",
          "data": {
            "text/plain": [
              "<tf.Tensor: shape=(1, 290, 25), dtype=float32, numpy=\n",
              "array([[[ 0.01880281,  0.03706581,  0.04133764, ..., -0.00616445,\n",
              "          0.02771853,  0.01996816],\n",
              "        [ 0.01880281,  0.03706581,  0.04133764, ..., -0.00616445,\n",
              "          0.02771853,  0.01996816],\n",
              "        [ 0.01880281,  0.03706581,  0.04133764, ..., -0.00616445,\n",
              "          0.02771853,  0.01996816],\n",
              "        ...,\n",
              "        [-0.00418894,  0.02999166,  0.00796962, ...,  0.02498484,\n",
              "          0.00447784,  0.0488483 ],\n",
              "        [-0.00418894,  0.02999166,  0.00796962, ...,  0.02498484,\n",
              "          0.00447784,  0.0488483 ],\n",
              "        [-0.00418894,  0.02999166,  0.00796962, ...,  0.02498484,\n",
              "          0.00447784,  0.0488483 ]]], dtype=float32)>"
            ]
          },
          "metadata": {},
          "execution_count": 84
        }
      ]
    },
    {
      "cell_type": "markdown",
      "source": [
        "### **Char level dataset**"
      ],
      "metadata": {
        "id": "k6spac7F9xES"
      }
    },
    {
      "cell_type": "code",
      "source": [
        "train_char_dataset=tf.data.Dataset.from_tensor_slices((train_chars,train_labels_one_hot))\n",
        "val_char_dataset=tf.data.Dataset.from_tensor_slices((val_chars,val_labels_one_hot))\n",
        "test_char_dataset=tf.data.Dataset.from_tensor_slices((test_chars,test_labels_one_hot))\n"
      ],
      "metadata": {
        "id": "4GJ0jRIR9wT1"
      },
      "execution_count": null,
      "outputs": []
    },
    {
      "cell_type": "code",
      "source": [
        "train_char_dataset=train_char_dataset.batch(32).prefetch(tf.data.AUTOTUNE)\n",
        "val_char_dataset=val_char_dataset.batch(32).prefetch(tf.data.AUTOTUNE)\n",
        "test_char_dataset=test_char_dataset.batch(32).prefetch(tf.data.AUTOTUNE)"
      ],
      "metadata": {
        "id": "D446IN5r-ePd"
      },
      "execution_count": null,
      "outputs": []
    },
    {
      "cell_type": "markdown",
      "source": [
        "### **model with char embedding**"
      ],
      "metadata": {
        "id": "-FhnDgrq7fcH"
      }
    },
    {
      "cell_type": "code",
      "source": [
        "input=layers.Input(shape=[],dtype=tf.string)\n",
        "\n",
        "char_vectors=char_vectorizer(input)\n",
        "char_embedd=char_embedding(char_vectors)\n",
        "\n",
        "x=layers.Conv1D(128,kernel_size=5,activation='relu')(char_embedd)\n",
        "x=layers.GlobalMaxPooling1D()(x)\n",
        "output=layers.Dense(num_classes,activation='softmax')(x)\n",
        "\n",
        "model_3=tf.keras.Model(input,output)\n",
        "\n",
        "model_3.summary()"
      ],
      "metadata": {
        "colab": {
          "base_uri": "https://localhost:8080/"
        },
        "id": "7v4M4ie37Dkm",
        "outputId": "ef6d91c7-a273-4bc1-8874-eb5c2e3d4133"
      },
      "execution_count": null,
      "outputs": [
        {
          "output_type": "stream",
          "name": "stdout",
          "text": [
            "Model: \"model_2\"\n",
            "_________________________________________________________________\n",
            " Layer (type)                Output Shape              Param #   \n",
            "=================================================================\n",
            " input_3 (InputLayer)        [(None,)]                 0         \n",
            "                                                                 \n",
            " text_vectorization_1 (TextV  (None, 290)              0         \n",
            " ectorization)                                                   \n",
            "                                                                 \n",
            " char_embedding (Embedding)  (None, 290, 25)           1450      \n",
            "                                                                 \n",
            " conv1d_1 (Conv1D)           (None, 286, 128)          16128     \n",
            "                                                                 \n",
            " global_max_pooling1d (Globa  (None, 128)              0         \n",
            " lMaxPooling1D)                                                  \n",
            "                                                                 \n",
            " dense_3 (Dense)             (None, 5)                 645       \n",
            "                                                                 \n",
            "=================================================================\n",
            "Total params: 18,223\n",
            "Trainable params: 18,223\n",
            "Non-trainable params: 0\n",
            "_________________________________________________________________\n"
          ]
        }
      ]
    },
    {
      "cell_type": "code",
      "source": [
        "model_3.compile(loss='categorical_crossentropy',\n",
        "                optimizer='adam',\n",
        "                metrics=['accuracy'])"
      ],
      "metadata": {
        "id": "2zmS-9Zn8TaW"
      },
      "execution_count": null,
      "outputs": []
    },
    {
      "cell_type": "code",
      "source": [
        "model_3.fit(train_char_dataset,\n",
        "            epochs=3,\n",
        "            validation_data=val_char_dataset)"
      ],
      "metadata": {
        "colab": {
          "base_uri": "https://localhost:8080/"
        },
        "id": "3K6D81zE8bfv",
        "outputId": "2cd91177-ff49-48fd-b502-b806fe19b6a6"
      },
      "execution_count": null,
      "outputs": [
        {
          "output_type": "stream",
          "name": "stdout",
          "text": [
            "Epoch 1/3\n",
            "5627/5627 [==============================] - 29s 5ms/step - loss: 0.7552 - accuracy: 0.7089 - val_loss: 0.6443 - val_accuracy: 0.7569\n",
            "Epoch 2/3\n",
            "5627/5627 [==============================] - 29s 5ms/step - loss: 0.6213 - accuracy: 0.7672 - val_loss: 0.6093 - val_accuracy: 0.7736\n",
            "Epoch 3/3\n",
            "5627/5627 [==============================] - 29s 5ms/step - loss: 0.5905 - accuracy: 0.7797 - val_loss: 0.6008 - val_accuracy: 0.7772\n"
          ]
        },
        {
          "output_type": "execute_result",
          "data": {
            "text/plain": [
              "<keras.callbacks.History at 0x7f5c2d175850>"
            ]
          },
          "metadata": {},
          "execution_count": 89
        }
      ]
    },
    {
      "cell_type": "code",
      "source": [
        "model_3_pred_probs=model_3.predict(val_char_dataset)"
      ],
      "metadata": {
        "colab": {
          "base_uri": "https://localhost:8080/"
        },
        "id": "c8KB-10f8llW",
        "outputId": "b12b78c8-fc7f-4d6f-a093-085aae051dad"
      },
      "execution_count": null,
      "outputs": [
        {
          "output_type": "stream",
          "name": "stdout",
          "text": [
            "945/945 [==============================] - 2s 2ms/step\n"
          ]
        }
      ]
    },
    {
      "cell_type": "code",
      "source": [
        "model_3_preds=tf.argmax(model_3_pred_probs,axis=1)\n",
        "model_3_preds"
      ],
      "metadata": {
        "colab": {
          "base_uri": "https://localhost:8080/"
        },
        "id": "tXrZ6PmH9K0e",
        "outputId": "5fe59bc5-052a-4b00-8905-d7c12dabe577"
      },
      "execution_count": null,
      "outputs": [
        {
          "output_type": "execute_result",
          "data": {
            "text/plain": [
              "<tf.Tensor: shape=(30212,), dtype=int64, numpy=array([1, 1, 3, ..., 4, 4, 1])>"
            ]
          },
          "metadata": {},
          "execution_count": 91
        }
      ]
    },
    {
      "cell_type": "code",
      "source": [
        "model_3_results=evaluate_model(y_true=val_label_encoded,\n",
        "                               y_preds=model_3_preds)\n",
        "\n",
        "model_3_results # with Maxpoolong"
      ],
      "metadata": {
        "colab": {
          "base_uri": "https://localhost:8080/"
        },
        "id": "znK3WmTG_6aD",
        "outputId": "9d5c3041-3510-4e68-c4bf-e523f8ec8e2f"
      },
      "execution_count": null,
      "outputs": [
        {
          "output_type": "execute_result",
          "data": {
            "text/plain": [
              "{'accuracy': 0.777240831457699,\n",
              " 'recall': 0.777240831457699,\n",
              " 'precision': 0.7746319620861085,\n",
              " 'f1-score': 0.7712496495274035}"
            ]
          },
          "metadata": {},
          "execution_count": 92
        }
      ]
    },
    {
      "cell_type": "code",
      "source": [
        "model_3_results=evaluate_model(y_true=val_label_encoded,\n",
        "                               y_preds=model_3_preds)\n",
        "\n",
        "model_3_results # with globalpoolong"
      ],
      "metadata": {
        "id": "DJ39kzy69TJk",
        "colab": {
          "base_uri": "https://localhost:8080/"
        },
        "outputId": "e80bf362-97a4-4043-9d5a-1ccf24d0647c"
      },
      "execution_count": null,
      "outputs": [
        {
          "output_type": "execute_result",
          "data": {
            "text/plain": [
              "{'accuracy': 0.777240831457699,\n",
              " 'recall': 0.777240831457699,\n",
              " 'precision': 0.7746319620861085,\n",
              " 'f1-score': 0.7712496495274035}"
            ]
          },
          "metadata": {},
          "execution_count": 93
        }
      ]
    },
    {
      "cell_type": "markdown",
      "source": [
        "## **Model 4 : Combined pre-trained token embedding ➕ chararacter embedding**"
      ],
      "metadata": {
        "id": "oVQQUVyvAlpn"
      }
    },
    {
      "cell_type": "markdown",
      "source": [
        "### **make hybrid dataset ( word + char )**"
      ],
      "metadata": {
        "id": "PRgZp1pg9JYL"
      }
    },
    {
      "cell_type": "code",
      "source": [
        "train_word_char_data=tf.data.Dataset.from_tensor_slices((train_sentences,train_chars))\n",
        "val_word_char_data=tf.data.Dataset.from_tensor_slices((val_sentences,val_chars))\n",
        "test_word_char_data=tf.data.Dataset.from_tensor_slices((test_sentences,test_chars))\n",
        "\n",
        "train_word_char_labels=tf.data.Dataset.from_tensor_slices((train_labels_one_hot))\n",
        "val_word_char_labels=tf.data.Dataset.from_tensor_slices((val_labels_one_hot))\n",
        "test_word_char_labels=tf.data.Dataset.from_tensor_slices((test_labels_one_hot))\n"
      ],
      "metadata": {
        "id": "A0RIs24N8XVG"
      },
      "execution_count": null,
      "outputs": []
    },
    {
      "cell_type": "code",
      "source": [
        "train_word_char_dataset=tf.data.Dataset.zip((train_word_char_data,train_word_char_labels)).batch(32).prefetch(tf.data.AUTOTUNE)\n",
        "val_word_char_dataset=tf.data.Dataset.zip((val_word_char_data,val_word_char_labels)).batch(32).prefetch(tf.data.AUTOTUNE)\n",
        "test_word_char_dataset=tf.data.Dataset.zip((test_word_char_data,test_word_char_labels)).batch(32).prefetch(tf.data.AUTOTUNE)"
      ],
      "metadata": {
        "id": "wfbwYHRR-TKQ"
      },
      "execution_count": null,
      "outputs": []
    },
    {
      "cell_type": "markdown",
      "source": [
        "### **Hybrid model**"
      ],
      "metadata": {
        "id": "UZToVYb0_A0I"
      }
    },
    {
      "cell_type": "markdown",
      "source": [
        "Steps :\n",
        "\n",
        "1. make a token-level embedding model `model_2`\n",
        "2. make a char-level embedding modle `model_3`\n",
        "3. Combined both models\n",
        "4. Build a model:-\n",
        "* input ➡ token and character level sequences\n",
        "* output ➡ output sequence label probablities"
      ],
      "metadata": {
        "id": "7AOEM7GIBtvL"
      }
    },
    {
      "cell_type": "code",
      "source": [
        "# make a token_level embedding model\n",
        "\n",
        "word_input=layers.Input(shape=[],dtype=tf.string)\n",
        "# word_vectors=word_vectorizer(word_input)\n",
        "word_embedd=word_embedding_layer(word_input)\n",
        "\n",
        "word_outputs=layers.Dense(128,activation='relu')(word_embedd)\n",
        "word_model=tf.keras.Model(inputs=word_input,\n",
        "                          outputs=word_outputs)\n",
        "\n",
        "\n",
        "# make a char enmbedding model\n",
        "\n",
        "char_input=layers.Input(shape=[],dtype=tf.string)\n",
        "char_vectors=char_vectorizer(char_input)\n",
        "char_embedd=char_embedding(char_vectors)\n",
        "char_bi_lstm=layers.Bidirectional(layers.LSTM(25))(char_embedd)\n",
        "char_model=tf.keras.Model(inputs=char_input,\n",
        "                          outputs=char_bi_lstm)\n",
        "\n",
        "# combine both models\n",
        "combined_embeddings=layers.Concatenate(name='combine_word_char_model')([word_model.output,\n",
        "                                       char_model.output])\n",
        "\n",
        "# hybrid model\n",
        "\n",
        "combined_dropout=layers.Dropout(0.5)(combined_embeddings)\n",
        "combined_dense=layers.Dense(128,activation='relu')(combined_dropout)\n",
        "final_dropout=layers.Dropout(0.5)(combined_dense)\n",
        "output_layer=layers.Dense(num_classes,activation='softmax')(final_dropout)\n",
        "\n",
        "model_4=tf.keras.Model(inputs=[word_model.input,char_model.input],\n",
        "                       outputs=output_layer,\n",
        "                       name='hybrid_word_char_model')\n",
        "\n",
        "model_4.summary()"
      ],
      "metadata": {
        "id": "CuFz_gnF9ex1",
        "colab": {
          "base_uri": "https://localhost:8080/"
        },
        "outputId": "d82e9d96-fe77-4280-8b4e-b0863c67efee"
      },
      "execution_count": null,
      "outputs": [
        {
          "output_type": "stream",
          "name": "stdout",
          "text": [
            "Model: \"hybrid_word_char_model\"\n",
            "__________________________________________________________________________________________________\n",
            " Layer (type)                   Output Shape         Param #     Connected to                     \n",
            "==================================================================================================\n",
            " input_5 (InputLayer)           [(None,)]            0           []                               \n",
            "                                                                                                  \n",
            " input_4 (InputLayer)           [(None,)]            0           []                               \n",
            "                                                                                                  \n",
            " text_vectorization_1 (TextVect  (None, 290)         0           ['input_5[0][0]']                \n",
            " orization)                                                                                       \n",
            "                                                                                                  \n",
            " use (KerasLayer)               (None, 512)          256797824   ['input_4[0][0]']                \n",
            "                                                                                                  \n",
            " char_embedding (Embedding)     (None, 290, 25)      1450        ['text_vectorization_1[1][0]']   \n",
            "                                                                                                  \n",
            " dense_4 (Dense)                (None, 128)          65664       ['use[1][0]']                    \n",
            "                                                                                                  \n",
            " bidirectional (Bidirectional)  (None, 50)           10200       ['char_embedding[1][0]']         \n",
            "                                                                                                  \n",
            " combine_word_char_model (Conca  (None, 178)         0           ['dense_4[0][0]',                \n",
            " tenate)                                                          'bidirectional[0][0]']          \n",
            "                                                                                                  \n",
            " dropout (Dropout)              (None, 178)          0           ['combine_word_char_model[0][0]']\n",
            "                                                                                                  \n",
            " dense_5 (Dense)                (None, 128)          22912       ['dropout[0][0]']                \n",
            "                                                                                                  \n",
            " dropout_1 (Dropout)            (None, 128)          0           ['dense_5[0][0]']                \n",
            "                                                                                                  \n",
            " dense_6 (Dense)                (None, 5)            645         ['dropout_1[0][0]']              \n",
            "                                                                                                  \n",
            "==================================================================================================\n",
            "Total params: 256,898,695\n",
            "Trainable params: 100,871\n",
            "Non-trainable params: 256,797,824\n",
            "__________________________________________________________________________________________________\n"
          ]
        }
      ]
    },
    {
      "cell_type": "code",
      "source": [
        "from tensorflow.keras.utils import plot_model\n",
        "\n",
        "plot_model(model_4,\n",
        "           show_shapes=True,\n",
        "           show_layer_activations=True)"
      ],
      "metadata": {
        "colab": {
          "base_uri": "https://localhost:8080/",
          "height": 976
        },
        "id": "wNBBwVKw79pm",
        "outputId": "8b8200bf-7911-404a-a805-8b894c09828f"
      },
      "execution_count": null,
      "outputs": [
        {
          "output_type": "execute_result",
          "data": {
            "image/png": "[encoded data removed]",
            "text/plain": [
              "<IPython.core.display.Image object>"
            ]
          },
          "metadata": {},
          "execution_count": 97
        }
      ]
    },
    {
      "cell_type": "code",
      "source": [
        "model_4.compile(loss='categorical_crossentropy',\n",
        "                optimizer='adam',\n",
        "                metrics=['accuracy'])"
      ],
      "metadata": {
        "id": "9FFJuapb_Hhi"
      },
      "execution_count": null,
      "outputs": []
    },
    {
      "cell_type": "code",
      "source": [
        "model_4.fit(train_word_char_dataset,\n",
        "            epochs=3,\n",
        "            validation_data=val_word_char_dataset)"
      ],
      "metadata": {
        "colab": {
          "base_uri": "https://localhost:8080/"
        },
        "id": "El665CSo_Hb6",
        "outputId": "21bd4294-069c-4801-b328-df8873de369e"
      },
      "execution_count": null,
      "outputs": [
        {
          "output_type": "stream",
          "name": "stdout",
          "text": [
            "Epoch 1/3\n",
            "5627/5627 [==============================] - 237s 41ms/step - loss: 0.7509 - accuracy: 0.7150 - val_loss: 0.6082 - val_accuracy: 0.7721\n",
            "Epoch 2/3\n",
            "5627/5627 [==============================] - 229s 41ms/step - loss: 0.6570 - accuracy: 0.7560 - val_loss: 0.5818 - val_accuracy: 0.7817\n",
            "Epoch 3/3\n",
            "5627/5627 [==============================] - 226s 40ms/step - loss: 0.6293 - accuracy: 0.7672 - val_loss: 0.5553 - val_accuracy: 0.7897\n"
          ]
        },
        {
          "output_type": "execute_result",
          "data": {
            "text/plain": [
              "<keras.callbacks.History at 0x7f5c2ca1fbb0>"
            ]
          },
          "metadata": {},
          "execution_count": 99
        }
      ]
    },
    {
      "cell_type": "code",
      "source": [
        "model_4_pred_probs=model_4.predict(val_word_char_dataset)"
      ],
      "metadata": {
        "colab": {
          "base_uri": "https://localhost:8080/"
        },
        "id": "45tK4sLq_HPq",
        "outputId": "61ecd0ff-e8c1-4ebc-ec23-f34b66795b6c"
      },
      "execution_count": null,
      "outputs": [
        {
          "output_type": "stream",
          "name": "stdout",
          "text": [
            "945/945 [==============================] - 23s 22ms/step\n"
          ]
        }
      ]
    },
    {
      "cell_type": "code",
      "source": [
        "model_4_preds=tf.argmax(model_4_pred_probs,axis=1)"
      ],
      "metadata": {
        "id": "QmgobqUV_nj5"
      },
      "execution_count": null,
      "outputs": []
    },
    {
      "cell_type": "code",
      "source": [
        "model_4_results=evaluate_model(y_true=val_label_encoded,\n",
        "                               y_preds=model_4_preds)"
      ],
      "metadata": {
        "id": "CE64aJwh_s_K"
      },
      "execution_count": null,
      "outputs": []
    },
    {
      "cell_type": "code",
      "source": [
        "model_4_results"
      ],
      "metadata": {
        "colab": {
          "base_uri": "https://localhost:8080/"
        },
        "id": "ENvtwXuV_s7l",
        "outputId": "d664297c-0dd1-43b1-d43b-dd0323b2b14f"
      },
      "execution_count": null,
      "outputs": [
        {
          "output_type": "execute_result",
          "data": {
            "text/plain": [
              "{'accuracy': 0.7896531179663709,\n",
              " 'recall': 0.7896531179663709,\n",
              " 'precision': 0.7881832748200681,\n",
              " 'f1-score': 0.7856177681124873}"
            ]
          },
          "metadata": {},
          "execution_count": 105
        }
      ]
    },
    {
      "cell_type": "markdown",
      "source": [
        "## **Model 5 : Pretrain word embedding ➕ char embedding ➕ positional embedding**\n",
        "\n"
      ],
      "metadata": {
        "id": "dyvLvhozIrmC"
      }
    },
    {
      "cell_type": "markdown",
      "source": [
        "Here `positional embedding` means that we are going to pass the postion of a sentence. wheter it is placed in starting,middle or bottom."
      ],
      "metadata": {
        "id": "jQl6GhSZI4-A"
      }
    },
    {
      "cell_type": "code",
      "source": [
        "train_df.head()"
      ],
      "metadata": {
        "colab": {
          "base_uri": "https://localhost:8080/",
          "height": 206
        },
        "id": "LRrBgBDkLc5j",
        "outputId": "c9653e47-708b-4aa3-ea9c-2ae822a2444c"
      },
      "execution_count": null,
      "outputs": [
        {
          "output_type": "execute_result",
          "data": {
            "text/plain": [
              "   line_number     target                                               text  \\\n",
              "0            0  OBJECTIVE  to investigate the efficacy of @ weeks of dail...   \n",
              "1            1    METHODS  a total of @ patients with primary knee oa wer...   \n",
              "2            2    METHODS  outcome measures included pain reduction and i...   \n",
              "3            3    METHODS  pain was assessed using the visual analog pain...   \n",
              "4            4    METHODS  secondary outcome measures included the wester...   \n",
              "\n",
              "   total_lines  \n",
              "0           11  \n",
              "1           11  \n",
              "2           11  \n",
              "3           11  \n",
              "4           11  "
            ],
            "text/html": [
              "\n",
              "  <div id=\"df-21c10645-c558-44e2-9a33-8c8519af6ee9\">\n",
              "    <div class=\"colab-df-container\">\n",
              "      <div>\n",
              "<style scoped>\n",
              "    .dataframe tbody tr th:only-of-type {\n",
              "        vertical-align: middle;\n",
              "    }\n",
              "\n",
              "    .dataframe tbody tr th {\n",
              "        vertical-align: top;\n",
              "    }\n",
              "\n",
              "    .dataframe thead th {\n",
              "        text-align: right;\n",
              "    }\n",
              "</style>\n",
              "<table border=\"1\" class=\"dataframe\">\n",
              "  <thead>\n",
              "    <tr style=\"text-align: right;\">\n",
              "      <th></th>\n",
              "      <th>line_number</th>\n",
              "      <th>target</th>\n",
              "      <th>text</th>\n",
              "      <th>total_lines</th>\n",
              "    </tr>\n",
              "  </thead>\n",
              "  <tbody>\n",
              "    <tr>\n",
              "      <th>0</th>\n",
              "      <td>0</td>\n",
              "      <td>OBJECTIVE</td>\n",
              "      <td>to investigate the efficacy of @ weeks of dail...</td>\n",
              "      <td>11</td>\n",
              "    </tr>\n",
              "    <tr>\n",
              "      <th>1</th>\n",
              "      <td>1</td>\n",
              "      <td>METHODS</td>\n",
              "      <td>a total of @ patients with primary knee oa wer...</td>\n",
              "      <td>11</td>\n",
              "    </tr>\n",
              "    <tr>\n",
              "      <th>2</th>\n",
              "      <td>2</td>\n",
              "      <td>METHODS</td>\n",
              "      <td>outcome measures included pain reduction and i...</td>\n",
              "      <td>11</td>\n",
              "    </tr>\n",
              "    <tr>\n",
              "      <th>3</th>\n",
              "      <td>3</td>\n",
              "      <td>METHODS</td>\n",
              "      <td>pain was assessed using the visual analog pain...</td>\n",
              "      <td>11</td>\n",
              "    </tr>\n",
              "    <tr>\n",
              "      <th>4</th>\n",
              "      <td>4</td>\n",
              "      <td>METHODS</td>\n",
              "      <td>secondary outcome measures included the wester...</td>\n",
              "      <td>11</td>\n",
              "    </tr>\n",
              "  </tbody>\n",
              "</table>\n",
              "</div>\n",
              "      <button class=\"colab-df-convert\" onclick=\"convertToInteractive('df-21c10645-c558-44e2-9a33-8c8519af6ee9')\"\n",
              "              title=\"Convert this dataframe to an interactive table.\"\n",
              "              style=\"display:none;\">\n",
              "        \n",
              "  <svg xmlns=\"http://www.w3.org/2000/svg\" height=\"24px\"viewBox=\"0 0 24 24\"\n",
              "       width=\"24px\">\n",
              "    <path d=\"M0 0h24v24H0V0z\" fill=\"none\"/>\n",
              "    <path d=\"M18.56 5.44l.94 2.06.94-2.06 2.06-.94-2.06-.94-.94-2.06-.94 2.06-2.06.94zm-11 1L8.5 8.5l.94-2.06 2.06-.94-2.06-.94L8.5 2.5l-.94 2.06-2.06.94zm10 10l.94 2.06.94-2.06 2.06-.94-2.06-.94-.94-2.06-.94 2.06-2.06.94z\"/><path d=\"M17.41 7.96l-1.37-1.37c-.4-.4-.92-.59-1.43-.59-.52 0-1.04.2-1.43.59L10.3 9.45l-7.72 7.72c-.78.78-.78 2.05 0 2.83L4 21.41c.39.39.9.59 1.41.59.51 0 1.02-.2 1.41-.59l7.78-7.78 2.81-2.81c.8-.78.8-2.07 0-2.86zM5.41 20L4 18.59l7.72-7.72 1.47 1.35L5.41 20z\"/>\n",
              "  </svg>\n",
              "      </button>\n",
              "      \n",
              "  <style>\n",
              "    .colab-df-container {\n",
              "      display:flex;\n",
              "      flex-wrap:wrap;\n",
              "      gap: 12px;\n",
              "    }\n",
              "\n",
              "    .colab-df-convert {\n",
              "      background-color: #E8F0FE;\n",
              "      border: none;\n",
              "      border-radius: 50%;\n",
              "      cursor: pointer;\n",
              "      display: none;\n",
              "      fill: #1967D2;\n",
              "      height: 32px;\n",
              "      padding: 0 0 0 0;\n",
              "      width: 32px;\n",
              "    }\n",
              "\n",
              "    .colab-df-convert:hover {\n",
              "      background-color: #E2EBFA;\n",
              "      box-shadow: 0px 1px 2px rgba(60, 64, 67, 0.3), 0px 1px 3px 1px rgba(60, 64, 67, 0.15);\n",
              "      fill: #174EA6;\n",
              "    }\n",
              "\n",
              "    [theme=dark] .colab-df-convert {\n",
              "      background-color: #3B4455;\n",
              "      fill: #D2E3FC;\n",
              "    }\n",
              "\n",
              "    [theme=dark] .colab-df-convert:hover {\n",
              "      background-color: #434B5C;\n",
              "      box-shadow: 0px 1px 3px 1px rgba(0, 0, 0, 0.15);\n",
              "      filter: drop-shadow(0px 1px 2px rgba(0, 0, 0, 0.3));\n",
              "      fill: #FFFFFF;\n",
              "    }\n",
              "  </style>\n",
              "\n",
              "      <script>\n",
              "        const buttonEl =\n",
              "          document.querySelector('#df-21c10645-c558-44e2-9a33-8c8519af6ee9 button.colab-df-convert');\n",
              "        buttonEl.style.display =\n",
              "          google.colab.kernel.accessAllowed ? 'block' : 'none';\n",
              "\n",
              "        async function convertToInteractive(key) {\n",
              "          const element = document.querySelector('#df-21c10645-c558-44e2-9a33-8c8519af6ee9');\n",
              "          const dataTable =\n",
              "            await google.colab.kernel.invokeFunction('convertToInteractive',\n",
              "                                                     [key], {});\n",
              "          if (!dataTable) return;\n",
              "\n",
              "          const docLinkHtml = 'Like what you see? Visit the ' +\n",
              "            '<a target=\"_blank\" href=https://colab.research.google.com/notebooks/data_table.ipynb>data table notebook</a>'\n",
              "            + ' to learn more about interactive tables.';\n",
              "          element.innerHTML = '';\n",
              "          dataTable['output_type'] = 'display_data';\n",
              "          await google.colab.output.renderOutput(dataTable, element);\n",
              "          const docLink = document.createElement('div');\n",
              "          docLink.innerHTML = docLinkHtml;\n",
              "          element.appendChild(docLink);\n",
              "        }\n",
              "      </script>\n",
              "    </div>\n",
              "  </div>\n",
              "  "
            ]
          },
          "metadata": {},
          "execution_count": 106
        }
      ]
    },
    {
      "cell_type": "code",
      "source": [
        "train_df.line_number.hist()"
      ],
      "metadata": {
        "colab": {
          "base_uri": "https://localhost:8080/",
          "height": 282
        },
        "id": "gf2KOny5LfDs",
        "outputId": "0702d486-6ea0-47af-f5fb-9db432bfc43a"
      },
      "execution_count": null,
      "outputs": [
        {
          "output_type": "execute_result",
          "data": {
            "text/plain": [
              "<matplotlib.axes._subplots.AxesSubplot at 0x7f5ccfaa0e50>"
            ]
          },
          "metadata": {},
          "execution_count": 107
        },
        {
          "output_type": "display_data",
          "data": {
            "text/plain": [
              "<Figure size 432x288 with 1 Axes>"
            ],
            "image/png": "[encoded data removed]"
          },
          "metadata": {
            "needs_background": "light"
          }
        }
      ]
    },
    {
      "cell_type": "code",
      "source": [
        "train_line_numbers_one_hot=tf.one_hot(train_df['line_number'].to_numpy(),depth=15)\n",
        "val_line_numbers_one_hot=tf.one_hot(val_df['line_number'].to_numpy(),depth=15)\n",
        "test_line_numbers_one_hot=tf.one_hot(test_df['line_number'].to_numpy(),depth=15)\n"
      ],
      "metadata": {
        "id": "BJ-HTlenLlKM"
      },
      "execution_count": null,
      "outputs": []
    },
    {
      "cell_type": "code",
      "source": [
        "train_df['total_lines'].hist()"
      ],
      "metadata": {
        "colab": {
          "base_uri": "https://localhost:8080/",
          "height": 284
        },
        "id": "_lHDz1cGMGUo",
        "outputId": "11f11255-e2e4-4295-c5a8-1d46fee45d17"
      },
      "execution_count": null,
      "outputs": [
        {
          "output_type": "execute_result",
          "data": {
            "text/plain": [
              "<matplotlib.axes._subplots.AxesSubplot at 0x7f5ccfa9cbe0>"
            ]
          },
          "metadata": {},
          "execution_count": 109
        },
        {
          "output_type": "display_data",
          "data": {
            "text/plain": [
              "<Figure size 432x288 with 1 Axes>"
            ],
            "image/png": "[encoded data removed]"
          },
          "metadata": {
            "needs_background": "light"
          }
        }
      ]
    },
    {
      "cell_type": "code",
      "source": [
        "train_total_line_one_hot=tf.one_hot(train_df['total_lines'].to_numpy(),depth=20)\n",
        "val_total_line_one_hot=tf.one_hot(val_df['total_lines'].to_numpy(),depth=20)\n",
        "test_total_line_one_hot=tf.one_hot(test_df['total_lines'].to_numpy(),depth=20)"
      ],
      "metadata": {
        "id": "4Yh8b9yfML_i"
      },
      "execution_count": null,
      "outputs": []
    },
    {
      "cell_type": "code",
      "source": [
        "train_total_line_one_hot.shape,train_sentences.shape,train_line_numbers_one_hot.shape"
      ],
      "metadata": {
        "colab": {
          "base_uri": "https://localhost:8080/"
        },
        "id": "OZpGXhEkqbSK",
        "outputId": "fd55d81d-bdfd-4c8d-92b1-9a37cb45178a"
      },
      "execution_count": null,
      "outputs": [
        {
          "output_type": "execute_result",
          "data": {
            "text/plain": [
              "(TensorShape([180040, 20]), (180040,), TensorShape([180040, 15]))"
            ]
          },
          "metadata": {},
          "execution_count": 43
        }
      ]
    },
    {
      "cell_type": "code",
      "source": [
        "#@title try it later\n",
        "\n",
        "\n",
        "train_line_numbers,train_total_lines=train_df['line_number'],train_df['total_lines']\n",
        "val_line_numbers,val_total_lines=val_df['line_number'],val_df['total_lines']\n",
        "test_line_numbers,test_total_lines=test_df['line_number'],test_df['total_lines']\n",
        "\n",
        "train_positional_data=tf.data.Dataset.from_tensor_slices((train_line_numbers,train_total_lines))\n",
        "val_positional_data=tf.data.Dataset.from_tensor_slices((val_line_numbers,val_total_lines))\n",
        "test_positional_data=tf.data.Dataset.from_tensor_slices((test_line_numbers,test_total_lines))"
      ],
      "metadata": {
        "cellView": "form",
        "id": "dYIkC0ca_s5v"
      },
      "execution_count": null,
      "outputs": []
    },
    {
      "cell_type": "markdown",
      "source": [
        "### **word+char+position embedding**"
      ],
      "metadata": {
        "id": "bwBoRi9GOnYw"
      }
    },
    {
      "cell_type": "code",
      "source": [
        "train_word_char_position_data=tf.data.Dataset.from_tensor_slices((train_sentences,\n",
        "                                                                  train_chars,\n",
        "                                                                  train_line_numbers_one_hot,\n",
        "                                                                  train_total_line_one_hot))\n",
        "\n",
        "val_word_char_position_data=tf.data.Dataset.from_tensor_slices((val_sentences,\n",
        "                                                                val_chars,\n",
        "                                                                val_line_numbers_one_hot,\n",
        "                                                                val_total_line_one_hot))\n",
        "\n",
        "test_word_char_position_data=tf.data.Dataset.from_tensor_slices((test_sentences,\n",
        "                                                                 test_chars,\n",
        "                                                                 test_line_numbers_one_hot,\n",
        "                                                                 test_total_line_one_hot))\n",
        "\n",
        "train_word_char_position_labels=tf.data.Dataset.from_tensor_slices((train_labels_one_hot))\n",
        "val_word_char_position_labels=tf.data.Dataset.from_tensor_slices((val_labels_one_hot))\n",
        "test_word_char_position_labels=tf.data.Dataset.from_tensor_slices((test_labels_one_hot))\n"
      ],
      "metadata": {
        "id": "n0pjGqr5_s21"
      },
      "execution_count": null,
      "outputs": []
    },
    {
      "cell_type": "code",
      "source": [
        "train_word_char_position_dataset=tf.data.Dataset.zip((train_word_char_position_data,\n",
        "                                                      train_word_char_position_labels)).batch(32).prefetch(tf.data.AUTOTUNE)\n",
        "val_word_char_position_dataset=tf.data.Dataset.zip((val_word_char_position_data,\n",
        "                                                    val_word_char_position_labels)).batch(32).prefetch(tf.data.AUTOTUNE)\n",
        "test_word_char_position_dataset=tf.data.Dataset.zip((test_word_char_position_data,\n",
        "                                                     test_word_char_position_labels)).batch(32).prefetch(tf.data.AUTOTUNE)"
      ],
      "metadata": {
        "id": "kcRIQFaqKOIr"
      },
      "execution_count": null,
      "outputs": []
    },
    {
      "cell_type": "markdown",
      "source": [
        "### **Tribrid model**"
      ],
      "metadata": {
        "id": "C2b7fTK2Oj-O"
      }
    },
    {
      "cell_type": "markdown",
      "source": [
        "Steps: \n",
        "\n",
        "1. create model for `word` embedding `model_2`\n",
        "2. create model for `char` embedding `model_3`\n",
        "3. create model for `line_number` embedding `line_model`\n",
        "4. create model for `total_lines` embedding `total_line_model`\n",
        "5. conatenate `model_2` and `model_3` as `word_char_model`\n",
        "6. concatenate `line_model` and `total_line_model` as `word_char_model`\n",
        "7. create a `tribrid model` "
      ],
      "metadata": {
        "id": "g_7nKnyvPNZa"
      }
    },
    {
      "cell_type": "code",
      "source": [
        "num_classes=len(train_df['target'].value_counts())\n",
        "num_classes"
      ],
      "metadata": {
        "colab": {
          "base_uri": "https://localhost:8080/"
        },
        "id": "dWEBkkunMCIp",
        "outputId": "87320589-e16c-4450-cf3e-f45e0021d43b"
      },
      "execution_count": null,
      "outputs": [
        {
          "output_type": "execute_result",
          "data": {
            "text/plain": [
              "5"
            ]
          },
          "metadata": {},
          "execution_count": 47
        }
      ]
    },
    {
      "cell_type": "code",
      "source": [
        "# 1. make a token_level embedding model\n",
        "\n",
        "word_input=layers.Input(shape=[],dtype=tf.string)\n",
        "# word_vectors=word_vectorizer(word_input)\n",
        "word_embedd=word_embedding_layer(word_input)\n",
        "\n",
        "word_outputs=layers.Dense(128,activation='relu')(word_embedd)\n",
        "word_model=tf.keras.Model(inputs=word_input,\n",
        "                          outputs=word_outputs)\n",
        "\n",
        "\n",
        "# 2. make a char enmbedding model\n",
        "\n",
        "char_input=layers.Input(shape=[],dtype=tf.string)\n",
        "char_vectors=char_vectorizer(char_input)\n",
        "char_embedd=char_embedding(char_vectors)\n",
        "char_bi_lstm=layers.Bidirectional(layers.LSTM(24))(char_embedd)\n",
        "char_model=tf.keras.Model(inputs=char_input,\n",
        "                          outputs=char_bi_lstm)\n",
        "\n",
        "# 3. make a line number embedding model\n",
        "\n",
        "line_input=layers.Input(shape=(15,),dtype=tf.float32)\n",
        "line_dense=layers.Dense(32,activation='relu')(line_input)\n",
        "line_model=tf.keras.Model(inputs=line_input,\n",
        "                          outputs=line_dense)\n",
        "\n",
        "# 4. make a total lines embedding model\n",
        "\n",
        "total_line_input=layers.Input(shape=(20,),dtype=tf.float32)\n",
        "total_line_dense=layers.Dense(32,activation='relu')(total_line_input)\n",
        "total_line_model=tf.keras.Model(inputs=total_line_input,\n",
        "                                outputs=total_line_dense)\n",
        "\n",
        "# 5. combine word_model & char_model\n",
        "combined_word_char_embeddings=layers.Concatenate(name='combine_word_char_model')([word_model.output,\n",
        "                                       char_model.output])\n",
        "\n",
        "z=layers.Dense(25,activation='relu')(combined_word_char_embeddings)\n",
        "z=layers.Dropout(0.5)(z)\n",
        "\n",
        "\n",
        "# 6. combine word_char_embeddings and line_model & total_line_model\n",
        "\n",
        "final_combined_embeddings=layers.Concatenate(name='combine_word_char_model_with_positional_models')([z,\n",
        "                                                                                                    line_model.output,\n",
        "                                                                                                    total_line_model.output])\n",
        "\n",
        "# tribrid model\n",
        "\n",
        "combined_dropout=layers.Dropout(0.5)(final_combined_embeddings)\n",
        "combined_dense=layers.Dense(128,activation='relu')(combined_dropout)\n",
        "final_dropout=layers.Dropout(0.5)(combined_dense)\n",
        "output_layer=layers.Dense(num_classes,activation='softmax')(final_dropout)\n",
        "\n",
        "model_5=tf.keras.Model(inputs=[word_model.input,\n",
        "                               char_model.input,\n",
        "                               line_model.input,\n",
        "                               total_line_model.input],\n",
        "                       outputs=output_layer,\n",
        "                       name='tribrid_word_char_positional_model')\n",
        "\n",
        "model_5.summary()"
      ],
      "metadata": {
        "id": "PC8c8bQBOhvx",
        "colab": {
          "base_uri": "https://localhost:8080/"
        },
        "outputId": "f8d1133c-e054-4f7e-ab7c-68dcf75b18b8"
      },
      "execution_count": null,
      "outputs": [
        {
          "output_type": "stream",
          "name": "stdout",
          "text": [
            "Model: \"tribrid_word_char_positional_model\"\n",
            "__________________________________________________________________________________________________\n",
            " Layer (type)                   Output Shape         Param #     Connected to                     \n",
            "==================================================================================================\n",
            " input_6 (InputLayer)           [(None,)]            0           []                               \n",
            "                                                                                                  \n",
            " input_5 (InputLayer)           [(None,)]            0           []                               \n",
            "                                                                                                  \n",
            " text_vectorization_2 (TextVect  (None, 290)         0           ['input_6[0][0]']                \n",
            " orization)                                                                                       \n",
            "                                                                                                  \n",
            " use (KerasLayer)               (None, 512)          256797824   ['input_5[0][0]']                \n",
            "                                                                                                  \n",
            " char_embedding (Embedding)     (None, 290, 25)      1450        ['text_vectorization_2[1][0]']   \n",
            "                                                                                                  \n",
            " dense_5 (Dense)                (None, 128)          65664       ['use[1][0]']                    \n",
            "                                                                                                  \n",
            " bidirectional_1 (Bidirectional  (None, 48)          9600        ['char_embedding[1][0]']         \n",
            " )                                                                                                \n",
            "                                                                                                  \n",
            " combine_word_char_model (Conca  (None, 176)         0           ['dense_5[0][0]',                \n",
            " tenate)                                                          'bidirectional_1[0][0]']        \n",
            "                                                                                                  \n",
            " dense_8 (Dense)                (None, 25)           4425        ['combine_word_char_model[0][0]']\n",
            "                                                                                                  \n",
            " input_7 (InputLayer)           [(None, 15)]         0           []                               \n",
            "                                                                                                  \n",
            " input_8 (InputLayer)           [(None, 20)]         0           []                               \n",
            "                                                                                                  \n",
            " dropout_3 (Dropout)            (None, 25)           0           ['dense_8[0][0]']                \n",
            "                                                                                                  \n",
            " dense_6 (Dense)                (None, 32)           512         ['input_7[0][0]']                \n",
            "                                                                                                  \n",
            " dense_7 (Dense)                (None, 32)           672         ['input_8[0][0]']                \n",
            "                                                                                                  \n",
            " combine_word_char_model_with_p  (None, 89)          0           ['dropout_3[0][0]',              \n",
            " ositional_models (Concatenate)                                   'dense_6[0][0]',                \n",
            "                                                                  'dense_7[0][0]']                \n",
            "                                                                                                  \n",
            " dropout_4 (Dropout)            (None, 89)           0           ['combine_word_char_model_with_po\n",
            "                                                                 sitional_models[0][0]']          \n",
            "                                                                                                  \n",
            " dense_9 (Dense)                (None, 128)          11520       ['dropout_4[0][0]']              \n",
            "                                                                                                  \n",
            " dropout_5 (Dropout)            (None, 128)          0           ['dense_9[0][0]']                \n",
            "                                                                                                  \n",
            " dense_10 (Dense)               (None, 5)            645         ['dropout_5[0][0]']              \n",
            "                                                                                                  \n",
            "==================================================================================================\n",
            "Total params: 256,892,312\n",
            "Trainable params: 94,488\n",
            "Non-trainable params: 256,797,824\n",
            "__________________________________________________________________________________________________\n"
          ]
        }
      ]
    },
    {
      "cell_type": "code",
      "source": [
        "from tensorflow.keras.utils import plot_model\n",
        "plot_model(model_5,show_shapes=True)"
      ],
      "metadata": {
        "id": "PyiY7Ic8QRib",
        "colab": {
          "base_uri": "https://localhost:8080/",
          "height": 1000
        },
        "outputId": "91ad828e-6948-4fdb-db15-ec78a92de0b2"
      },
      "execution_count": null,
      "outputs": [
        {
          "output_type": "execute_result",
          "data": {
            "image/png": "[encoded data removed]",
            "text/plain": [
              "<IPython.core.display.Image object>"
            ]
          },
          "metadata": {},
          "execution_count": 51
        }
      ]
    },
    {
      "cell_type": "code",
      "source": [
        "model_5.compile(\n",
        "    loss=tf.keras.losses.CategoricalCrossentropy(label_smoothing=0.2),\n",
        "    optimizer=tf.keras.optimizers.Adam(),\n",
        "    metrics=['accuracy'],\n",
        "    )"
      ],
      "metadata": {
        "id": "fDI2Ij-yohpT"
      },
      "execution_count": null,
      "outputs": []
    },
    {
      "cell_type": "code",
      "source": [
        "model_5.fit(train_word_char_position_dataset,\n",
        "            epochs=3,\n",
        "            steps_per_epoch=int(0.1*len(train_word_char_position_dataset)),\n",
        "            validation_data=val_word_char_position_dataset,\n",
        "            validation_steps=int(0.1*len(val_word_char_position_dataset))\n",
        "            )"
      ],
      "metadata": {
        "colab": {
          "base_uri": "https://localhost:8080/"
        },
        "id": "duNoB0hapJIn",
        "outputId": "742f2f6b-ac08-4fbf-f0af-21f85adef8b8"
      },
      "execution_count": null,
      "outputs": [
        {
          "output_type": "stream",
          "name": "stdout",
          "text": [
            "Epoch 1/3\n",
            "562/562 [==============================] - 201s 336ms/step - loss: 1.2529 - accuracy: 0.5977 - val_loss: 1.0324 - val_accuracy: 0.7550\n",
            "Epoch 2/3\n",
            "562/562 [==============================] - 178s 316ms/step - loss: 1.1075 - accuracy: 0.7146 - val_loss: 0.9996 - val_accuracy: 0.7902\n",
            "Epoch 3/3\n",
            "562/562 [==============================] - 174s 309ms/step - loss: 1.0740 - accuracy: 0.7381 - val_loss: 0.9818 - val_accuracy: 0.7965\n"
          ]
        },
        {
          "output_type": "execute_result",
          "data": {
            "text/plain": [
              "<keras.callbacks.History at 0x7f9c1162e850>"
            ]
          },
          "metadata": {},
          "execution_count": 53
        }
      ]
    },
    {
      "cell_type": "code",
      "source": [
        "model_5_pred_probs=model_5.predict(val_word_char_position_dataset)"
      ],
      "metadata": {
        "colab": {
          "base_uri": "https://localhost:8080/"
        },
        "id": "ayPDsV-dzHcS",
        "outputId": "7ffecf6f-4fdd-49f0-9980-2231fedf49a5"
      },
      "execution_count": null,
      "outputs": [
        {
          "output_type": "stream",
          "name": "stdout",
          "text": [
            "945/945 [==============================] - 82s 83ms/step\n"
          ]
        }
      ]
    },
    {
      "cell_type": "code",
      "source": [
        "model_5_preds=tf.argmax(model_5_pred_probs,axis=1)"
      ],
      "metadata": {
        "id": "yCm3xIcRysS3"
      },
      "execution_count": null,
      "outputs": []
    },
    {
      "cell_type": "code",
      "source": [
        "model_5_results=evaluate_model(y_true=val_label_encoded,\n",
        "                               y_preds=model_5_preds)\n",
        "\n",
        "model_5_results"
      ],
      "metadata": {
        "id": "LEqd6hPgzj5z",
        "colab": {
          "base_uri": "https://localhost:8080/"
        },
        "outputId": "ce208a6d-ea20-4ca0-cfe7-52aeccb78c80"
      },
      "execution_count": null,
      "outputs": [
        {
          "output_type": "execute_result",
          "data": {
            "text/plain": [
              "{'accuracy': 0.7972328875943334,\n",
              " 'recall': 0.7972328875943334,\n",
              " 'precision': 0.792167400880348,\n",
              " 'f1-score': 0.7921763020704417}"
            ]
          },
          "metadata": {},
          "execution_count": 60
        }
      ]
    },
    {
      "cell_type": "code",
      "source": [],
      "metadata": {
        "id": "kuj7n_A0z7sq"
      },
      "execution_count": null,
      "outputs": []
    },
    {
      "cell_type": "markdown",
      "source": [
        "## **Final Blow - PubMed200 Replication** "
      ],
      "metadata": {
        "id": "ZSLtNd53DyiX"
      }
    },
    {
      "cell_type": "code",
      "source": [
        "# get data\n",
        "\n",
        "!git clone https://github.com/Franck-Dernoncourt/pubmed-rct\n",
        "!ls pubmed-rct\n",
        "\n",
        "data_dir='/content/pubmed-rct/PubMed_200k_RCT_numbers_replaced_with_at_sign/'"
      ],
      "metadata": {
        "id": "60VgmUyXFUOd"
      },
      "execution_count": null,
      "outputs": []
    },
    {
      "cell_type": "code",
      "source": [
        "# libraries\n",
        "from sklearn.metrics import precision_score,recall_score,accuracy_score,f1_score\n",
        "from tensorflow.keras.layers.experimental.preprocessing import TextVectorization\n",
        "from sklearn.preprocessing import OneHotEncoder\n",
        "from sklearn.preprocessing import LabelEncoder\n",
        "import tensorflow_hub as hub\n",
        "import string"
      ],
      "metadata": {
        "id": "TjNz1f5U8skV"
      },
      "execution_count": null,
      "outputs": []
    },
    {
      "cell_type": "code",
      "source": [
        "# helper functions\n",
        "\n",
        "def evaluate_model(y_true,y_preds):\n",
        "  '''\n",
        "    make a function to evaluate model experiments\n",
        "  '''\n",
        "  model_accuracy=accuracy_score(y_true,y_preds)\n",
        "  model_recall=recall_score(y_true,y_preds,average='weighted')\n",
        "  model_precision=precision_score(y_true,y_preds,average='weighted')\n",
        "  model_f1=f1_score(y_true,y_preds,average='weighted')\n",
        "\n",
        "  return {\n",
        "      \"accuracy\":model_accuracy,\n",
        "      \"recall\":model_recall,\n",
        "      \"precision\":model_precision,\n",
        "      \"f1-score\":model_f1\n",
        "  }\n",
        "\n",
        "\n",
        "def get_chars(lines):\n",
        "  '''\n",
        "    takes sentneces and convert it into character level ...\n",
        "  '''\n",
        "  return ' '.join(list(lines))\n",
        "\n",
        "  \n",
        "def get_lines(filename):\n",
        "  \"\"\"\n",
        "    reads a text file and return all lines in a list.\n",
        "  \"\"\"\n",
        "\n",
        "  with open (filename,'r') as file:\n",
        "    return file.readlines()\n",
        "\n",
        "# here we are going to write a preprcessing function to do so...\n",
        "\n",
        "def preprocessing_text_with_line_number(filename):\n",
        "  \"\"\"\n",
        "    Takes a filename and extract all lines then make a list of dictionaries,\n",
        "    For each instance each one contains :\n",
        "        line_number\n",
        "        target\n",
        "        text\n",
        "        total_lines = number of lines in each paragraph\n",
        "  \"\"\"\n",
        "\n",
        "  input_lines = get_lines(data_dir + filename)\n",
        "  text_blog=\"\"\n",
        "\n",
        "  samples=[]\n",
        "\n",
        "  for line in input_lines:\n",
        "\n",
        "    if line.startswith('###'):\n",
        "      id=line\n",
        "      text_blog=\"\"\n",
        "    elif line.isspace():\n",
        "\n",
        "      all_lines=text_blog.splitlines()\n",
        "\n",
        "      for line_number,curr_line in enumerate(all_lines):\n",
        "        temp=dict()\n",
        "        temp['line_number']=line_number\n",
        "        label,text=curr_line.split('\\t')\n",
        "        temp['target']=label\n",
        "        temp['text']=text.lower()\n",
        "        temp['total_lines']=len(all_lines)-1\n",
        "\n",
        "        samples.append(temp)\n",
        "\n",
        "    else:\n",
        "      text_blog+=line \n",
        "\n",
        "  return samples \n",
        "\n",
        "\n"
      ],
      "metadata": {
        "id": "-nLM7KOc8Ur0"
      },
      "execution_count": null,
      "outputs": []
    },
    {
      "cell_type": "code",
      "source": [
        "# read text from files in list of dicitionaries as well structured\n",
        "\n",
        "train_text=preprocessing_text_with_line_number('train.txt')\n",
        "val_text=preprocessing_text_with_line_number('dev.txt')\n",
        "test_text=preprocessing_text_with_line_number('test.txt')\n",
        "\n",
        "# load into dataframe\n",
        "\n",
        "train_df=pd.DataFrame(train_text)\n",
        "val_df=pd.DataFrame(val_text)\n",
        "test_df=pd.DataFrame(test_text)\n",
        "\n",
        "# OnehotEncoding \n",
        "\n",
        "one_hot_encoder=OneHotEncoder(sparse=False)\n",
        "\n",
        "train_labels_one_hot=one_hot_encoder.fit_transform(train_df['target'].to_numpy().reshape(-1,1))\n",
        "test_labels_one_hot=one_hot_encoder.fit_transform(test_df['target'].to_numpy().reshape(-1,1))\n",
        "val_labels_one_hot=one_hot_encoder.fit_transform(val_df['target'].to_numpy().reshape(-1,1))\n",
        "\n",
        "# LabelEncoding\n",
        "\n",
        "label_encoder=LabelEncoder()\n",
        "\n",
        "train_label_encoded=label_encoder.fit_transform(train_df['target'].to_numpy())\n",
        "test_label_encoded=label_encoder.transform(test_df['target'].to_numpy())\n",
        "val_label_encoded=label_encoder.transform(val_df['target'].to_numpy())\n"
      ],
      "metadata": {
        "id": "nLB4UsKc88dW"
      },
      "execution_count": null,
      "outputs": []
    },
    {
      "cell_type": "code",
      "source": [
        "# sentences\n",
        "train_sentences=train_df['text']\n",
        "test_sentences=test_df['text']\n",
        "val_sentences=val_df['text']\n"
      ],
      "metadata": {
        "id": "O17UH4mt2ur4"
      },
      "execution_count": null,
      "outputs": []
    },
    {
      "cell_type": "code",
      "source": [
        "# word vectorizer & embedding\n",
        "\n",
        "output_seq_len=np.percentile(train_sentences.map(lambda x : len(x.split())),95)\n",
        "\n",
        "max_vocab_length=68000\n",
        "max_length=int(output_seq_len)\n",
        "word_vectorizer=TextVectorization(max_tokens=max_vocab_length,\n",
        "                                  output_mode='int',\n",
        "                                  output_sequence_length=max_length,\n",
        "                                  name='word_vectorizer')\n",
        "\n",
        "word_embedding=tf.keras.layers.Embedding(\n",
        "    input_dim=max_vocab_length,\n",
        "    output_dim=128,\n",
        "    mask_zero=True,\n",
        "    name='word_embedding'\n",
        ")\n",
        "\n",
        "word_embedding_layer = hub.KerasLayer('https://tfhub.dev/google/universal-sentence-encoder/4',\n",
        "                                      trainable=False,\n",
        "                                      name='use')\n",
        "\n"
      ],
      "metadata": {
        "id": "MfkFXZfJ-Iu1"
      },
      "execution_count": null,
      "outputs": []
    },
    {
      "cell_type": "code",
      "source": [
        "# convert sentence data into tensor dataset - batch & prefetech\n",
        "\n",
        "train_dataset=tf.data.Dataset.from_tensor_slices((train_sentences,train_labels_one_hot))\n",
        "test_dataset=tf.data.Dataset.from_tensor_slices((test_sentences,test_labels_one_hot))\n",
        "val_dataset=tf.data.Dataset.from_tensor_slices((val_sentences,val_labels_one_hot))\n",
        "\n",
        "train_dataset=train_dataset.batch(32).prefetch(tf.data.AUTOTUNE)\n",
        "test_dataset=test_dataset.batch(32).prefetch(tf.data.AUTOTUNE)\n",
        "val_dataset=val_dataset.batch(32).prefetch(tf.data.AUTOTUNE)"
      ],
      "metadata": {
        "id": "rKklQTU6-yJL"
      },
      "execution_count": null,
      "outputs": []
    },
    {
      "cell_type": "code",
      "source": [
        "#train_chars\n",
        "\n",
        "train_chars=[get_chars(line) for line in train_sentences]\n",
        "test_chars=[get_chars(line) for line in test_sentences]\n",
        "val_chars=[get_chars(line) for line in val_sentences]"
      ],
      "metadata": {
        "id": "hYtYmitX2xVv"
      },
      "execution_count": null,
      "outputs": []
    },
    {
      "cell_type": "code",
      "source": [
        "# char vectorizer and embedding\n",
        "\n",
        "chars= string.ascii_lowercase + string.punctuation\n",
        "\n",
        "TOKEN_NUMS = len(chars)\n",
        "output_seq_len=int(np.percentile(train_sentences.map(len),95))\n",
        "\n",
        "char_vectorizer=TextVectorization(max_tokens=TOKEN_NUMS,\n",
        "                                  output_sequence_length=output_seq_len,\n",
        "                                  standardize=None,\n",
        "                                  name='char_vectorizer')\n",
        "\n",
        "char_embedding=layers.Embedding(input_dim=TOKEN_NUMS,\n",
        "                               output_dim=25,\n",
        "                               mask_zero=True,\n",
        "                               name='char_embedding')"
      ],
      "metadata": {
        "id": "hvViaIKo9MjA"
      },
      "execution_count": null,
      "outputs": []
    },
    {
      "cell_type": "code",
      "source": [
        "char_vectorizer.adapt(train_chars)"
      ],
      "metadata": {
        "id": "k4XKAo0GSd-d"
      },
      "execution_count": null,
      "outputs": []
    },
    {
      "cell_type": "code",
      "source": [
        "# convert char data into tensor dataset - batch & prefetech\n",
        "\n",
        "train_char_dataset=tf.data.Dataset.from_tensor_slices((train_chars,train_labels_one_hot))\n",
        "val_char_dataset=tf.data.Dataset.from_tensor_slices((val_chars,val_labels_one_hot))\n",
        "test_char_dataset=tf.data.Dataset.from_tensor_slices((test_chars,test_labels_one_hot))\n",
        "\n",
        "train_char_dataset=train_char_dataset.batch(32).prefetch(tf.data.AUTOTUNE)\n",
        "val_char_dataset=val_char_dataset.batch(32).prefetch(tf.data.AUTOTUNE)\n",
        "test_char_dataset=test_char_dataset.batch(32).prefetch(tf.data.AUTOTUNE)"
      ],
      "metadata": {
        "id": "OX__-7KDBgDP"
      },
      "execution_count": null,
      "outputs": []
    },
    {
      "cell_type": "code",
      "source": [
        "# combine word and char data into tensor dataset\n",
        "\n",
        "train_word_char_data=tf.data.Dataset.from_tensor_slices((train_sentences,train_chars))\n",
        "val_word_char_data=tf.data.Dataset.from_tensor_slices((val_sentences,val_chars))\n",
        "test_word_char_data=tf.data.Dataset.from_tensor_slices((test_sentences,test_chars))\n",
        "\n",
        "train_word_char_labels=tf.data.Dataset.from_tensor_slices((train_labels_one_hot))\n",
        "val_word_char_labels=tf.data.Dataset.from_tensor_slices((val_labels_one_hot))\n",
        "test_word_char_labels=tf.data.Dataset.from_tensor_slices((test_labels_one_hot))\n",
        "\n",
        "train_word_char_dataset=tf.data.Dataset.zip((train_word_char_data,train_word_char_labels)).batch(32).prefetch(tf.data.AUTOTUNE)\n",
        "val_word_char_dataset=tf.data.Dataset.zip((val_word_char_data,val_word_char_labels)).batch(32).prefetch(tf.data.AUTOTUNE)\n",
        "test_word_char_dataset=tf.data.Dataset.zip((test_word_char_data,test_word_char_labels)).batch(32).prefetch(tf.data.AUTOTUNE)"
      ],
      "metadata": {
        "id": "vtbidWBFBf_2"
      },
      "execution_count": null,
      "outputs": []
    },
    {
      "cell_type": "code",
      "source": [
        "# positional data\n",
        "\n",
        "train_line_numbers_one_hot=tf.one_hot(train_df['line_number'].to_numpy(),depth=15)\n",
        "val_line_numbers_one_hot=tf.one_hot(val_df['line_number'].to_numpy(),depth=15)\n",
        "test_line_numbers_one_hot=tf.one_hot(test_df['line_number'].to_numpy(),depth=15)\n",
        "\n",
        "train_total_line_one_hot=tf.one_hot(train_df['total_lines'].to_numpy(),depth=20)\n",
        "val_total_line_one_hot=tf.one_hot(val_df['total_lines'].to_numpy(),depth=20)\n",
        "test_total_line_one_hot=tf.one_hot(test_df['total_lines'].to_numpy(),depth=20)\n",
        "\n"
      ],
      "metadata": {
        "id": "Q8x9FShlD4RO"
      },
      "execution_count": null,
      "outputs": []
    },
    {
      "cell_type": "code",
      "source": [
        "# combining word,char and positional data into tensor dataset\n",
        "\n",
        "train_word_char_position_data=tf.data.Dataset.from_tensor_slices((train_sentences,\n",
        "                                                                  train_chars,\n",
        "                                                                  train_line_numbers_one_hot,\n",
        "                                                                  train_total_line_one_hot))\n",
        "\n",
        "val_word_char_position_data=tf.data.Dataset.from_tensor_slices((val_sentences,\n",
        "                                                                val_chars,\n",
        "                                                                val_line_numbers_one_hot,\n",
        "                                                                val_total_line_one_hot))\n",
        "\n",
        "test_word_char_position_data=tf.data.Dataset.from_tensor_slices((test_sentences,\n",
        "                                                                 test_chars,\n",
        "                                                                 test_line_numbers_one_hot,\n",
        "                                                                 test_total_line_one_hot))\n",
        "\n",
        "train_word_char_position_labels=tf.data.Dataset.from_tensor_slices((train_labels_one_hot))\n",
        "val_word_char_position_labels=tf.data.Dataset.from_tensor_slices((val_labels_one_hot))\n",
        "test_word_char_position_labels=tf.data.Dataset.from_tensor_slices((test_labels_one_hot))\n",
        "\n",
        "\n",
        "train_word_char_position_dataset=tf.data.Dataset.zip((train_word_char_position_data,\n",
        "                                                      train_word_char_position_labels)).batch(32).prefetch(tf.data.AUTOTUNE)\n",
        "val_word_char_position_dataset=tf.data.Dataset.zip((val_word_char_position_data,\n",
        "                                                    val_word_char_position_labels)).batch(32).prefetch(tf.data.AUTOTUNE)\n",
        "test_word_char_position_dataset=tf.data.Dataset.zip((test_word_char_position_data,\n",
        "                                                     test_word_char_position_labels)).batch(32).prefetch(tf.data.AUTOTUNE)"
      ],
      "metadata": {
        "id": "m3NzjocSD4Nk"
      },
      "execution_count": null,
      "outputs": []
    },
    {
      "cell_type": "code",
      "source": [
        "# 1. make a token_level embedding model\n",
        "\n",
        "word_input=layers.Input(shape=[],dtype=tf.string)\n",
        "# word_vectors=word_vectorizer(word_input)\n",
        "word_embedd=word_embedding_layer(word_input)\n",
        "\n",
        "word_outputs=layers.Dense(128,activation='relu')(word_embedd)\n",
        "word_model=tf.keras.Model(inputs=word_input,\n",
        "                          outputs=word_outputs)\n",
        "\n",
        "# 2. make a char embedding model\n",
        "\n",
        "char_input=layers.Input(shape=[],dtype=tf.string)\n",
        "char_vectors=char_vectorizer(char_input)\n",
        "char_embedd=char_embedding(char_vectors)\n",
        "char_bi_lstm=layers.Bidirectional(layers.LSTM(24))(char_embedd)\n",
        "char_model=tf.keras.Model(inputs=char_input,\n",
        "                          outputs=char_bi_lstm)\n",
        "\n",
        "# 3. make a line number embedding model\n",
        "\n",
        "line_input=layers.Input(shape=(15,),dtype=tf.float32)\n",
        "line_dense=layers.Dense(32,activation='relu')(line_input)\n",
        "line_model=tf.keras.Model(inputs=line_input,\n",
        "                          outputs=line_dense)\n",
        "\n",
        "# 4. make a total lines embedding model\n",
        "\n",
        "total_line_input=layers.Input(shape=(20,),dtype=tf.float32)\n",
        "total_line_dense=layers.Dense(32,activation='relu')(total_line_input)\n",
        "total_line_model=tf.keras.Model(inputs=total_line_input,\n",
        "                                outputs=total_line_dense)\n",
        "\n",
        "# 5. combine word_model & char_model\n",
        "combined_word_char_embeddings=layers.Concatenate(name='combine_word_char_model')([word_model.output,\n",
        "                                       char_model.output])\n",
        "\n",
        "z=layers.Dense(25,activation='relu')(combined_word_char_embeddings)\n",
        "z=layers.Dropout(0.5)(z)\n",
        "\n",
        "\n",
        "# 6. combine word_char_embeddings and line_model & total_line_model\n",
        "\n",
        "final_combined_embeddings=layers.Concatenate(name='combine_word_char_model_with_positional_models')([z,\n",
        "                                                                                                    line_model.output,\n",
        "                                                                                                    total_line_model.output])\n",
        "\n",
        "# tribrid model\n",
        "\n",
        "combined_dropout=layers.Dropout(0.5)(final_combined_embeddings)\n",
        "combined_dense=layers.Dense(128,activation='relu')(combined_dropout)\n",
        "final_dropout=layers.Dropout(0.5)(combined_dense)\n",
        "output_layer=layers.Dense(num_classes,activation='softmax')(final_dropout)\n",
        "\n",
        "model=tf.keras.Model(inputs=[word_model.input,\n",
        "                               char_model.input,\n",
        "                               line_model.input,\n",
        "                               total_line_model.input],\n",
        "                       outputs=output_layer,\n",
        "                       name='tribrid_word_char_positional_model')\n",
        "\n",
        "model.summary()"
      ],
      "metadata": {
        "colab": {
          "base_uri": "https://localhost:8080/"
        },
        "id": "CDFp8NyED4LL",
        "outputId": "de1b35e8-d499-45d1-ffce-49eb4076f4fb"
      },
      "execution_count": null,
      "outputs": [
        {
          "output_type": "stream",
          "name": "stdout",
          "text": [
            "Model: \"tribrid_word_char_positional_model\"\n",
            "__________________________________________________________________________________________________\n",
            " Layer (type)                   Output Shape         Param #     Connected to                     \n",
            "==================================================================================================\n",
            " input_18 (InputLayer)          [(None,)]            0           []                               \n",
            "                                                                                                  \n",
            " input_17 (InputLayer)          [(None,)]            0           []                               \n",
            "                                                                                                  \n",
            " char_vectorizer (TextVectoriza  (None, 290)         0           ['input_18[0][0]']               \n",
            " tion)                                                                                            \n",
            "                                                                                                  \n",
            " use (KerasLayer)               (None, 512)          256797824   ['input_17[0][0]']               \n",
            "                                                                                                  \n",
            " char_embedding (Embedding)     (None, 290, 25)      1450        ['char_vectorizer[2][0]']        \n",
            "                                                                                                  \n",
            " dense_23 (Dense)               (None, 128)          65664       ['use[2][0]']                    \n",
            "                                                                                                  \n",
            " bidirectional_4 (Bidirectional  (None, 48)          9600        ['char_embedding[2][0]']         \n",
            " )                                                                                                \n",
            "                                                                                                  \n",
            " combine_word_char_model (Conca  (None, 176)         0           ['dense_23[0][0]',               \n",
            " tenate)                                                          'bidirectional_4[0][0]']        \n",
            "                                                                                                  \n",
            " dense_26 (Dense)               (None, 25)           4425        ['combine_word_char_model[0][0]']\n",
            "                                                                                                  \n",
            " input_19 (InputLayer)          [(None, 15)]         0           []                               \n",
            "                                                                                                  \n",
            " input_20 (InputLayer)          [(None, 20)]         0           []                               \n",
            "                                                                                                  \n",
            " dropout_12 (Dropout)           (None, 25)           0           ['dense_26[0][0]']               \n",
            "                                                                                                  \n",
            " dense_24 (Dense)               (None, 32)           512         ['input_19[0][0]']               \n",
            "                                                                                                  \n",
            " dense_25 (Dense)               (None, 32)           672         ['input_20[0][0]']               \n",
            "                                                                                                  \n",
            " combine_word_char_model_with_p  (None, 89)          0           ['dropout_12[0][0]',             \n",
            " ositional_models (Concatenate)                                   'dense_24[0][0]',               \n",
            "                                                                  'dense_25[0][0]']               \n",
            "                                                                                                  \n",
            " dropout_13 (Dropout)           (None, 89)           0           ['combine_word_char_model_with_po\n",
            "                                                                 sitional_models[0][0]']          \n",
            "                                                                                                  \n",
            " dense_27 (Dense)               (None, 128)          11520       ['dropout_13[0][0]']             \n",
            "                                                                                                  \n",
            " dropout_14 (Dropout)           (None, 128)          0           ['dense_27[0][0]']               \n",
            "                                                                                                  \n",
            " dense_28 (Dense)               (None, 5)            645         ['dropout_14[0][0]']             \n",
            "                                                                                                  \n",
            "==================================================================================================\n",
            "Total params: 256,892,312\n",
            "Trainable params: 94,488\n",
            "Non-trainable params: 256,797,824\n",
            "__________________________________________________________________________________________________\n"
          ]
        }
      ]
    },
    {
      "cell_type": "code",
      "source": [
        "model.compile(loss=tf.keras.losses.CategoricalCrossentropy(label_smoothing=0.2),\n",
        "              optimizer='adam',\n",
        "              metrics=['accuracy'])"
      ],
      "metadata": {
        "id": "Vh6DOWsrD4IV"
      },
      "execution_count": null,
      "outputs": []
    },
    {
      "cell_type": "code",
      "source": [
        "model.fit(train_word_char_position_dataset,\n",
        "          epochs=3,\n",
        "          validation_data=val_word_char_position_dataset)"
      ],
      "metadata": {
        "colab": {
          "base_uri": "https://localhost:8080/"
        },
        "id": "R3oeEOuURsIG",
        "outputId": "3c951972-a7f3-4bef-d76f-bc4d2c8e7848"
      },
      "execution_count": null,
      "outputs": [
        {
          "output_type": "stream",
          "name": "stdout",
          "text": [
            "Epoch 1/3\n",
            "5627/5627 [==============================] - 1687s 298ms/step - loss: 1.0628 - accuracy: 0.7381 - val_loss: 0.9284 - val_accuracy: 0.8247\n",
            "Epoch 2/3\n",
            "5627/5627 [==============================] - 1709s 304ms/step - loss: 0.9856 - accuracy: 0.7907 - val_loss: 0.9090 - val_accuracy: 0.8366\n",
            "Epoch 3/3\n",
            "5627/5627 [==============================] - 1720s 306ms/step - loss: 0.9688 - accuracy: 0.8036 - val_loss: 0.9066 - val_accuracy: 0.8422\n"
          ]
        },
        {
          "output_type": "execute_result",
          "data": {
            "text/plain": [
              "<keras.callbacks.History at 0x7f9c11a99c40>"
            ]
          },
          "metadata": {},
          "execution_count": 82
        }
      ]
    },
    {
      "cell_type": "code",
      "source": [
        "model_pred_probs=model.predict(val_word_char_position_dataset)\n",
        "model_preds=tf.argmax(model_pred_probs,axis=1)"
      ],
      "metadata": {
        "colab": {
          "base_uri": "https://localhost:8080/"
        },
        "id": "zkVT1LZmR1e8",
        "outputId": "11ca02e8-08d4-48ac-b057-207fcc414d6a"
      },
      "execution_count": null,
      "outputs": [
        {
          "output_type": "stream",
          "name": "stdout",
          "text": [
            "945/945 [==============================] - 106s 108ms/step\n"
          ]
        }
      ]
    },
    {
      "cell_type": "code",
      "source": [
        "model_results=evaluate_model(y_true=val_label_encoded,\n",
        "                             y_preds=model_preds)\n"
      ],
      "metadata": {
        "id": "VTTD0SrBpgKV"
      },
      "execution_count": null,
      "outputs": []
    },
    {
      "cell_type": "code",
      "source": [
        "model_results"
      ],
      "metadata": {
        "colab": {
          "base_uri": "https://localhost:8080/"
        },
        "id": "D7etv9cupziI",
        "outputId": "771c0ae0-8b52-42d3-dccb-0439e87c870a"
      },
      "execution_count": null,
      "outputs": [
        {
          "output_type": "execute_result",
          "data": {
            "text/plain": [
              "{'accuracy': 0.842181914471071,\n",
              " 'recall': 0.842181914471071,\n",
              " 'precision': 0.846911794134533,\n",
              " 'f1-score': 0.8329869744539251}"
            ]
          },
          "metadata": {},
          "execution_count": 85
        }
      ]
    },
    {
      "cell_type": "code",
      "source": [],
      "metadata": {
        "id": "gsHYdZ-NqLs9"
      },
      "execution_count": null,
      "outputs": []
    }
  ]
}